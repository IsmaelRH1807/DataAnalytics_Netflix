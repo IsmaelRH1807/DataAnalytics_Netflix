{
  "nbformat": 4,
  "nbformat_minor": 0,
  "metadata": {
    "colab": {
      "name": "Copia de AnalisisNetflix.ipynb",
      "provenance": [],
      "collapsed_sections": []
    },
    "kernelspec": {
      "name": "python3",
      "display_name": "Python 3"
    },
    "language_info": {
      "name": "python"
    }
  },
  "cells": [
    {
      "cell_type": "markdown",
      "metadata": {
        "id": "p1ftBZ-s4nsg"
      },
      "source": [
        "# ANALISIS DE CONSUMO DE NETFLIX CON PYTHON"
      ]
    },
    {
      "cell_type": "markdown",
      "metadata": {
        "id": "i4e8MJ-v4zog"
      },
      "source": [
        "## 1. IMPORTACION Y CARGA DE DATOS"
      ]
    },
    {
      "cell_type": "code",
      "metadata": {
        "colab": {
          "resources": {
            "http://localhost:8080/nbextensions/google.colab/files.js": {
              "data": "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",
              "ok": true,
              "headers": [
                [
                  "content-type",
                  "application/javascript"
                ]
              ],
              "status": 200,
              "status_text": "OK"
            }
          },
          "base_uri": "https://localhost:8080/",
          "height": 74
        },
        "id": "TMjMoW2jh631",
        "outputId": "d9c2d4b4-8f73-4541-e11a-7f80e4012357"
      },
      "source": [
        "from google.colab import files\n",
        "datos = files.upload()"
      ],
      "execution_count": 1,
      "outputs": [
        {
          "output_type": "display_data",
          "data": {
            "text/html": [
              "\n",
              "     <input type=\"file\" id=\"files-655a6141-c9cd-4bc8-8a21-d65fd4d6953c\" name=\"files[]\" multiple disabled\n",
              "        style=\"border:none\" />\n",
              "     <output id=\"result-655a6141-c9cd-4bc8-8a21-d65fd4d6953c\">\n",
              "      Upload widget is only available when the cell has been executed in the\n",
              "      current browser session. Please rerun this cell to enable.\n",
              "      </output>\n",
              "      <script src=\"/nbextensions/google.colab/files.js\"></script> "
            ],
            "text/plain": [
              "<IPython.core.display.HTML object>"
            ]
          },
          "metadata": {}
        },
        {
          "output_type": "stream",
          "name": "stdout",
          "text": [
            "Saving NetflixViewingHistory.csv to NetflixViewingHistory.csv\n"
          ]
        }
      ]
    },
    {
      "cell_type": "code",
      "metadata": {
        "id": "_-Y13dGQlywU"
      },
      "source": [
        "import io\n",
        "import pandas as pd\n",
        "\n",
        "df = pd.read_csv(io.BytesIO(datos['NetflixViewingHistory.csv']))"
      ],
      "execution_count": 2,
      "outputs": []
    },
    {
      "cell_type": "markdown",
      "metadata": {
        "id": "bLxJsVFH47yS"
      },
      "source": [
        "## 2. ANALISIS EXPLORATORIO"
      ]
    },
    {
      "cell_type": "code",
      "metadata": {
        "id": "a0jqJliKm3ys",
        "colab": {
          "base_uri": "https://localhost:8080/"
        },
        "outputId": "fface501-238d-4f12-87ec-19fc868dcab8"
      },
      "source": [
        "df.shape"
      ],
      "execution_count": 3,
      "outputs": [
        {
          "output_type": "execute_result",
          "data": {
            "text/plain": [
              "(94, 2)"
            ]
          },
          "metadata": {},
          "execution_count": 3
        }
      ]
    },
    {
      "cell_type": "code",
      "metadata": {
        "id": "-kcURe1tyrvd",
        "colab": {
          "base_uri": "https://localhost:8080/"
        },
        "outputId": "08058656-cd9f-4310-af9a-45ad01ca098f"
      },
      "source": [
        "df.info()"
      ],
      "execution_count": 4,
      "outputs": [
        {
          "output_type": "stream",
          "name": "stdout",
          "text": [
            "<class 'pandas.core.frame.DataFrame'>\n",
            "RangeIndex: 94 entries, 0 to 93\n",
            "Data columns (total 2 columns):\n",
            " #   Column  Non-Null Count  Dtype \n",
            "---  ------  --------------  ----- \n",
            " 0   Title   94 non-null     object\n",
            " 1   Date    94 non-null     object\n",
            "dtypes: object(2)\n",
            "memory usage: 1.6+ KB\n"
          ]
        }
      ]
    },
    {
      "cell_type": "code",
      "metadata": {
        "id": "_8UXy5z7m5lo",
        "colab": {
          "base_uri": "https://localhost:8080/",
          "height": 1000
        },
        "outputId": "23626eb9-fcd0-4233-c2f5-a0995190f879"
      },
      "source": [
        "df.head(50)"
      ],
      "execution_count": 5,
      "outputs": [
        {
          "output_type": "execute_result",
          "data": {
            "text/html": [
              "<div>\n",
              "<style scoped>\n",
              "    .dataframe tbody tr th:only-of-type {\n",
              "        vertical-align: middle;\n",
              "    }\n",
              "\n",
              "    .dataframe tbody tr th {\n",
              "        vertical-align: top;\n",
              "    }\n",
              "\n",
              "    .dataframe thead th {\n",
              "        text-align: right;\n",
              "    }\n",
              "</style>\n",
              "<table border=\"1\" class=\"dataframe\">\n",
              "  <thead>\n",
              "    <tr style=\"text-align: right;\">\n",
              "      <th></th>\n",
              "      <th>Title</th>\n",
              "      <th>Date</th>\n",
              "    </tr>\n",
              "  </thead>\n",
              "  <tbody>\n",
              "    <tr>\n",
              "      <th>0</th>\n",
              "      <td>The Witcher: La pesadilla del lobo</td>\n",
              "      <td>25/8/21</td>\n",
              "    </tr>\n",
              "    <tr>\n",
              "      <th>1</th>\n",
              "      <td>Breaking Bad: Temporada 2: Rotura</td>\n",
              "      <td>9/8/21</td>\n",
              "    </tr>\n",
              "    <tr>\n",
              "      <th>2</th>\n",
              "      <td>Breaking Bad: Temporada 2: Abajo</td>\n",
              "      <td>9/8/21</td>\n",
              "    </tr>\n",
              "    <tr>\n",
              "      <th>3</th>\n",
              "      <td>Fullmetal Alchemist: Brotherhood: Parte 1: El ...</td>\n",
              "      <td>8/8/21</td>\n",
              "    </tr>\n",
              "    <tr>\n",
              "      <th>4</th>\n",
              "      <td>Mad Max: Furia en el camino</td>\n",
              "      <td>5/8/21</td>\n",
              "    </tr>\n",
              "    <tr>\n",
              "      <th>5</th>\n",
              "      <td>Castlevania: Temporada 4: Ha sido un viaje ext...</td>\n",
              "      <td>29/7/21</td>\n",
              "    </tr>\n",
              "    <tr>\n",
              "      <th>6</th>\n",
              "      <td>Castlevania: Temporada 4: El final</td>\n",
              "      <td>29/7/21</td>\n",
              "    </tr>\n",
              "    <tr>\n",
              "      <th>7</th>\n",
              "      <td>Castlevania: Temporada 4: Magia de muerte</td>\n",
              "      <td>29/7/21</td>\n",
              "    </tr>\n",
              "    <tr>\n",
              "      <th>8</th>\n",
              "      <td>Castlevania: Temporada 4: La gran obra</td>\n",
              "      <td>27/7/21</td>\n",
              "    </tr>\n",
              "    <tr>\n",
              "      <th>9</th>\n",
              "      <td>Castlevania: Temporada 4: No merecen mi sangre</td>\n",
              "      <td>26/7/21</td>\n",
              "    </tr>\n",
              "    <tr>\n",
              "      <th>10</th>\n",
              "      <td>Castlevania: Temporada 4: Volver a la vida</td>\n",
              "      <td>26/7/21</td>\n",
              "    </tr>\n",
              "    <tr>\n",
              "      <th>11</th>\n",
              "      <td>Castlevania: Temporada 4: Sacrificar todo</td>\n",
              "      <td>26/7/21</td>\n",
              "    </tr>\n",
              "    <tr>\n",
              "      <th>12</th>\n",
              "      <td>Castlevania: Temporada 4: Sigue caminando</td>\n",
              "      <td>25/7/21</td>\n",
              "    </tr>\n",
              "    <tr>\n",
              "      <th>13</th>\n",
              "      <td>Castlevania: Temporada 4: Tener el mundo</td>\n",
              "      <td>25/7/21</td>\n",
              "    </tr>\n",
              "    <tr>\n",
              "      <th>14</th>\n",
              "      <td>Castlevania: Temporada 4: La muerte lo activa</td>\n",
              "      <td>25/7/21</td>\n",
              "    </tr>\n",
              "    <tr>\n",
              "      <th>15</th>\n",
              "      <td>Amos del Universo: Revelación: Parte 1: El cál...</td>\n",
              "      <td>24/7/21</td>\n",
              "    </tr>\n",
              "    <tr>\n",
              "      <th>16</th>\n",
              "      <td>Amos del Universo: Revelación: Parte 1: El pod...</td>\n",
              "      <td>24/7/21</td>\n",
              "    </tr>\n",
              "    <tr>\n",
              "      <th>17</th>\n",
              "      <td>Castlevania: Temporada 3: Abandone toda esperanza</td>\n",
              "      <td>22/7/21</td>\n",
              "    </tr>\n",
              "    <tr>\n",
              "      <th>18</th>\n",
              "      <td>Castlevania: Temporada 3: La cosecha</td>\n",
              "      <td>22/7/21</td>\n",
              "    </tr>\n",
              "    <tr>\n",
              "      <th>19</th>\n",
              "      <td>Castlevania: Temporada 3: Qué depara la noche</td>\n",
              "      <td>21/7/21</td>\n",
              "    </tr>\n",
              "    <tr>\n",
              "      <th>20</th>\n",
              "      <td>Castlevania: Temporada 3: Cosas peores que la ...</td>\n",
              "      <td>21/7/21</td>\n",
              "    </tr>\n",
              "    <tr>\n",
              "      <th>21</th>\n",
              "      <td>Castlevania: Temporada 3: El buen sueño</td>\n",
              "      <td>21/7/21</td>\n",
              "    </tr>\n",
              "    <tr>\n",
              "      <th>22</th>\n",
              "      <td>Castlevania: Temporada 3: Sede de civilización...</td>\n",
              "      <td>15/7/21</td>\n",
              "    </tr>\n",
              "    <tr>\n",
              "      <th>23</th>\n",
              "      <td>Castlevania: Temporada 3: Tengo un plan</td>\n",
              "      <td>15/7/21</td>\n",
              "    </tr>\n",
              "    <tr>\n",
              "      <th>24</th>\n",
              "      <td>Castlevania: Temporada 3: Investigadores</td>\n",
              "      <td>13/7/21</td>\n",
              "    </tr>\n",
              "    <tr>\n",
              "      <th>25</th>\n",
              "      <td>Castlevania: Temporada 3: La reparación de mi ...</td>\n",
              "      <td>13/7/21</td>\n",
              "    </tr>\n",
              "    <tr>\n",
              "      <th>26</th>\n",
              "      <td>Castlevania: Temporada 3: Muertos de buen corazón</td>\n",
              "      <td>11/7/21</td>\n",
              "    </tr>\n",
              "    <tr>\n",
              "      <th>27</th>\n",
              "      <td>Castlevania: Temporada 2: El fin de los días</td>\n",
              "      <td>10/7/21</td>\n",
              "    </tr>\n",
              "    <tr>\n",
              "      <th>28</th>\n",
              "      <td>Castlevania: Temporada 2: Por amor</td>\n",
              "      <td>10/7/21</td>\n",
              "    </tr>\n",
              "    <tr>\n",
              "      <th>29</th>\n",
              "      <td>Castlevania: Temporada 2: El río</td>\n",
              "      <td>10/7/21</td>\n",
              "    </tr>\n",
              "    <tr>\n",
              "      <th>30</th>\n",
              "      <td>Castlevania: Temporada 2: Último hechizo</td>\n",
              "      <td>9/7/21</td>\n",
              "    </tr>\n",
              "    <tr>\n",
              "      <th>31</th>\n",
              "      <td>Castlevania: Temporada 2: Mástil roto</td>\n",
              "      <td>9/7/21</td>\n",
              "    </tr>\n",
              "    <tr>\n",
              "      <th>32</th>\n",
              "      <td>Castlevania: Temporada 2: Batallas ocultas</td>\n",
              "      <td>9/7/21</td>\n",
              "    </tr>\n",
              "    <tr>\n",
              "      <th>33</th>\n",
              "      <td>Castlevania: Temporada 2: Hogares ancestrales</td>\n",
              "      <td>9/7/21</td>\n",
              "    </tr>\n",
              "    <tr>\n",
              "      <th>34</th>\n",
              "      <td>Castlevania: Temporada 2: Consejo de guerra</td>\n",
              "      <td>9/7/21</td>\n",
              "    </tr>\n",
              "    <tr>\n",
              "      <th>35</th>\n",
              "      <td>Castlevania: Temporada 1: Monumento</td>\n",
              "      <td>9/7/21</td>\n",
              "    </tr>\n",
              "    <tr>\n",
              "      <th>36</th>\n",
              "      <td>Castlevania: Temporada 1: Laberinto</td>\n",
              "      <td>9/7/21</td>\n",
              "    </tr>\n",
              "    <tr>\n",
              "      <th>37</th>\n",
              "      <td>Castlevania: Temporada 1: Necrópolis</td>\n",
              "      <td>9/7/21</td>\n",
              "    </tr>\n",
              "    <tr>\n",
              "      <th>38</th>\n",
              "      <td>Ten Percent: Temporada 1: Cécile</td>\n",
              "      <td>8/7/21</td>\n",
              "    </tr>\n",
              "    <tr>\n",
              "      <th>39</th>\n",
              "      <td>Castlevania: Temporada 1: Botella de bruja</td>\n",
              "      <td>31/5/21</td>\n",
              "    </tr>\n",
              "    <tr>\n",
              "      <th>40</th>\n",
              "      <td>El juicio de los 7 de Chicago</td>\n",
              "      <td>16/5/21</td>\n",
              "    </tr>\n",
              "    <tr>\n",
              "      <th>41</th>\n",
              "      <td>Lupin: Parte 1: Capítulo 5</td>\n",
              "      <td>11/5/21</td>\n",
              "    </tr>\n",
              "    <tr>\n",
              "      <th>42</th>\n",
              "      <td>Héroes: Silencio y rock &amp; roll</td>\n",
              "      <td>25/4/21</td>\n",
              "    </tr>\n",
              "    <tr>\n",
              "      <th>43</th>\n",
              "      <td>Madame Curie</td>\n",
              "      <td>15/4/21</td>\n",
              "    </tr>\n",
              "    <tr>\n",
              "      <th>44</th>\n",
              "      <td>13 de noviembre: Terror en París: Miniserie: E...</td>\n",
              "      <td>13/4/21</td>\n",
              "    </tr>\n",
              "    <tr>\n",
              "      <th>45</th>\n",
              "      <td>Breaking Bad: Temporada 2: Picadura de una abe...</td>\n",
              "      <td>8/4/21</td>\n",
              "    </tr>\n",
              "    <tr>\n",
              "      <th>46</th>\n",
              "      <td>13 de noviembre: Terror en París: Miniserie: E...</td>\n",
              "      <td>4/4/21</td>\n",
              "    </tr>\n",
              "    <tr>\n",
              "      <th>47</th>\n",
              "      <td>Ghost in the Shell</td>\n",
              "      <td>28/3/21</td>\n",
              "    </tr>\n",
              "    <tr>\n",
              "      <th>48</th>\n",
              "      <td>Ghost in the Shell: SAC_2045: Temporada 1: Sac...</td>\n",
              "      <td>28/3/21</td>\n",
              "    </tr>\n",
              "    <tr>\n",
              "      <th>49</th>\n",
              "      <td>Ghost in the Shell: SAC_2045: Temporada 1: Reb...</td>\n",
              "      <td>28/3/21</td>\n",
              "    </tr>\n",
              "  </tbody>\n",
              "</table>\n",
              "</div>"
            ],
            "text/plain": [
              "                                                Title     Date\n",
              "0                  The Witcher: La pesadilla del lobo  25/8/21\n",
              "1                   Breaking Bad: Temporada 2: Rotura   9/8/21\n",
              "2                    Breaking Bad: Temporada 2: Abajo   9/8/21\n",
              "3   Fullmetal Alchemist: Brotherhood: Parte 1: El ...   8/8/21\n",
              "4                         Mad Max: Furia en el camino   5/8/21\n",
              "5   Castlevania: Temporada 4: Ha sido un viaje ext...  29/7/21\n",
              "6                  Castlevania: Temporada 4: El final  29/7/21\n",
              "7           Castlevania: Temporada 4: Magia de muerte  29/7/21\n",
              "8              Castlevania: Temporada 4: La gran obra  27/7/21\n",
              "9      Castlevania: Temporada 4: No merecen mi sangre  26/7/21\n",
              "10         Castlevania: Temporada 4: Volver a la vida  26/7/21\n",
              "11          Castlevania: Temporada 4: Sacrificar todo  26/7/21\n",
              "12          Castlevania: Temporada 4: Sigue caminando  25/7/21\n",
              "13           Castlevania: Temporada 4: Tener el mundo  25/7/21\n",
              "14      Castlevania: Temporada 4: La muerte lo activa  25/7/21\n",
              "15  Amos del Universo: Revelación: Parte 1: El cál...  24/7/21\n",
              "16  Amos del Universo: Revelación: Parte 1: El pod...  24/7/21\n",
              "17  Castlevania: Temporada 3: Abandone toda esperanza  22/7/21\n",
              "18               Castlevania: Temporada 3: La cosecha  22/7/21\n",
              "19      Castlevania: Temporada 3: Qué depara la noche  21/7/21\n",
              "20  Castlevania: Temporada 3: Cosas peores que la ...  21/7/21\n",
              "21            Castlevania: Temporada 3: El buen sueño  21/7/21\n",
              "22  Castlevania: Temporada 3: Sede de civilización...  15/7/21\n",
              "23            Castlevania: Temporada 3: Tengo un plan  15/7/21\n",
              "24           Castlevania: Temporada 3: Investigadores  13/7/21\n",
              "25  Castlevania: Temporada 3: La reparación de mi ...  13/7/21\n",
              "26  Castlevania: Temporada 3: Muertos de buen corazón  11/7/21\n",
              "27       Castlevania: Temporada 2: El fin de los días  10/7/21\n",
              "28                 Castlevania: Temporada 2: Por amor  10/7/21\n",
              "29                   Castlevania: Temporada 2: El río  10/7/21\n",
              "30           Castlevania: Temporada 2: Último hechizo   9/7/21\n",
              "31              Castlevania: Temporada 2: Mástil roto   9/7/21\n",
              "32         Castlevania: Temporada 2: Batallas ocultas   9/7/21\n",
              "33      Castlevania: Temporada 2: Hogares ancestrales   9/7/21\n",
              "34        Castlevania: Temporada 2: Consejo de guerra   9/7/21\n",
              "35                Castlevania: Temporada 1: Monumento   9/7/21\n",
              "36                Castlevania: Temporada 1: Laberinto   9/7/21\n",
              "37               Castlevania: Temporada 1: Necrópolis   9/7/21\n",
              "38                   Ten Percent: Temporada 1: Cécile   8/7/21\n",
              "39         Castlevania: Temporada 1: Botella de bruja  31/5/21\n",
              "40                      El juicio de los 7 de Chicago  16/5/21\n",
              "41                         Lupin: Parte 1: Capítulo 5  11/5/21\n",
              "42                     Héroes: Silencio y rock & roll  25/4/21\n",
              "43                                       Madame Curie  15/4/21\n",
              "44  13 de noviembre: Terror en París: Miniserie: E...  13/4/21\n",
              "45  Breaking Bad: Temporada 2: Picadura de una abe...   8/4/21\n",
              "46  13 de noviembre: Terror en París: Miniserie: E...   4/4/21\n",
              "47                                 Ghost in the Shell  28/3/21\n",
              "48  Ghost in the Shell: SAC_2045: Temporada 1: Sac...  28/3/21\n",
              "49  Ghost in the Shell: SAC_2045: Temporada 1: Reb...  28/3/21"
            ]
          },
          "metadata": {},
          "execution_count": 5
        }
      ]
    },
    {
      "cell_type": "markdown",
      "metadata": {
        "id": "tEdIrsPO9LtP"
      },
      "source": [
        "Vemos que parece que existe un patrón en el que diferentes partes se se separan mediante dos puntos. Vamos a contar en cuantas partes distintas se seperan nuestros contenidos"
      ]
    },
    {
      "cell_type": "code",
      "metadata": {
        "id": "uHENhOUypFz_",
        "colab": {
          "base_uri": "https://localhost:8080/",
          "height": 424
        },
        "outputId": "0d6124cf-599c-4878-9142-6e911779c0d1"
      },
      "source": [
        "separacion_lista = df.Title.str.split(pat = ':', expand=False).to_frame()\n",
        "separacion_lista"
      ],
      "execution_count": 6,
      "outputs": [
        {
          "output_type": "execute_result",
          "data": {
            "text/html": [
              "<div>\n",
              "<style scoped>\n",
              "    .dataframe tbody tr th:only-of-type {\n",
              "        vertical-align: middle;\n",
              "    }\n",
              "\n",
              "    .dataframe tbody tr th {\n",
              "        vertical-align: top;\n",
              "    }\n",
              "\n",
              "    .dataframe thead th {\n",
              "        text-align: right;\n",
              "    }\n",
              "</style>\n",
              "<table border=\"1\" class=\"dataframe\">\n",
              "  <thead>\n",
              "    <tr style=\"text-align: right;\">\n",
              "      <th></th>\n",
              "      <th>Title</th>\n",
              "    </tr>\n",
              "  </thead>\n",
              "  <tbody>\n",
              "    <tr>\n",
              "      <th>0</th>\n",
              "      <td>[The Witcher,  La pesadilla del lobo]</td>\n",
              "    </tr>\n",
              "    <tr>\n",
              "      <th>1</th>\n",
              "      <td>[Breaking Bad,  Temporada 2,  Rotura]</td>\n",
              "    </tr>\n",
              "    <tr>\n",
              "      <th>2</th>\n",
              "      <td>[Breaking Bad,  Temporada 2,  Abajo]</td>\n",
              "    </tr>\n",
              "    <tr>\n",
              "      <th>3</th>\n",
              "      <td>[Fullmetal Alchemist,  Brotherhood,  Parte 1, ...</td>\n",
              "    </tr>\n",
              "    <tr>\n",
              "      <th>4</th>\n",
              "      <td>[Mad Max,  Furia en el camino]</td>\n",
              "    </tr>\n",
              "    <tr>\n",
              "      <th>...</th>\n",
              "      <td>...</td>\n",
              "    </tr>\n",
              "    <tr>\n",
              "      <th>89</th>\n",
              "      <td>[DEATH NOTE,  Death Note,  Decision]</td>\n",
              "    </tr>\n",
              "    <tr>\n",
              "      <th>90</th>\n",
              "      <td>[DEATH NOTE,  Death Note,  Wager]</td>\n",
              "    </tr>\n",
              "    <tr>\n",
              "      <th>91</th>\n",
              "      <td>[DEATH NOTE,  Death Note,  Friend]</td>\n",
              "    </tr>\n",
              "    <tr>\n",
              "      <th>92</th>\n",
              "      <td>[DEATH NOTE,  Death Note,  Confession]</td>\n",
              "    </tr>\n",
              "    <tr>\n",
              "      <th>93</th>\n",
              "      <td>[Nada es privado]</td>\n",
              "    </tr>\n",
              "  </tbody>\n",
              "</table>\n",
              "<p>94 rows × 1 columns</p>\n",
              "</div>"
            ],
            "text/plain": [
              "                                                Title\n",
              "0               [The Witcher,  La pesadilla del lobo]\n",
              "1               [Breaking Bad,  Temporada 2,  Rotura]\n",
              "2                [Breaking Bad,  Temporada 2,  Abajo]\n",
              "3   [Fullmetal Alchemist,  Brotherhood,  Parte 1, ...\n",
              "4                      [Mad Max,  Furia en el camino]\n",
              "..                                                ...\n",
              "89               [DEATH NOTE,  Death Note,  Decision]\n",
              "90                  [DEATH NOTE,  Death Note,  Wager]\n",
              "91                 [DEATH NOTE,  Death Note,  Friend]\n",
              "92             [DEATH NOTE,  Death Note,  Confession]\n",
              "93                                  [Nada es privado]\n",
              "\n",
              "[94 rows x 1 columns]"
            ]
          },
          "metadata": {},
          "execution_count": 6
        }
      ]
    },
    {
      "cell_type": "code",
      "metadata": {
        "id": "Ajdf806jqQzg",
        "colab": {
          "base_uri": "https://localhost:8080/",
          "height": 424
        },
        "outputId": "3c2a0f2f-c9e8-46d7-978a-7ba9aa1339d8"
      },
      "source": [
        "separacion_lista['num_partes'] = separacion_lista.Title.apply(len)\n",
        "separacion_lista"
      ],
      "execution_count": 7,
      "outputs": [
        {
          "output_type": "execute_result",
          "data": {
            "text/html": [
              "<div>\n",
              "<style scoped>\n",
              "    .dataframe tbody tr th:only-of-type {\n",
              "        vertical-align: middle;\n",
              "    }\n",
              "\n",
              "    .dataframe tbody tr th {\n",
              "        vertical-align: top;\n",
              "    }\n",
              "\n",
              "    .dataframe thead th {\n",
              "        text-align: right;\n",
              "    }\n",
              "</style>\n",
              "<table border=\"1\" class=\"dataframe\">\n",
              "  <thead>\n",
              "    <tr style=\"text-align: right;\">\n",
              "      <th></th>\n",
              "      <th>Title</th>\n",
              "      <th>num_partes</th>\n",
              "    </tr>\n",
              "  </thead>\n",
              "  <tbody>\n",
              "    <tr>\n",
              "      <th>0</th>\n",
              "      <td>[The Witcher,  La pesadilla del lobo]</td>\n",
              "      <td>2</td>\n",
              "    </tr>\n",
              "    <tr>\n",
              "      <th>1</th>\n",
              "      <td>[Breaking Bad,  Temporada 2,  Rotura]</td>\n",
              "      <td>3</td>\n",
              "    </tr>\n",
              "    <tr>\n",
              "      <th>2</th>\n",
              "      <td>[Breaking Bad,  Temporada 2,  Abajo]</td>\n",
              "      <td>3</td>\n",
              "    </tr>\n",
              "    <tr>\n",
              "      <th>3</th>\n",
              "      <td>[Fullmetal Alchemist,  Brotherhood,  Parte 1, ...</td>\n",
              "      <td>4</td>\n",
              "    </tr>\n",
              "    <tr>\n",
              "      <th>4</th>\n",
              "      <td>[Mad Max,  Furia en el camino]</td>\n",
              "      <td>2</td>\n",
              "    </tr>\n",
              "    <tr>\n",
              "      <th>...</th>\n",
              "      <td>...</td>\n",
              "      <td>...</td>\n",
              "    </tr>\n",
              "    <tr>\n",
              "      <th>89</th>\n",
              "      <td>[DEATH NOTE,  Death Note,  Decision]</td>\n",
              "      <td>3</td>\n",
              "    </tr>\n",
              "    <tr>\n",
              "      <th>90</th>\n",
              "      <td>[DEATH NOTE,  Death Note,  Wager]</td>\n",
              "      <td>3</td>\n",
              "    </tr>\n",
              "    <tr>\n",
              "      <th>91</th>\n",
              "      <td>[DEATH NOTE,  Death Note,  Friend]</td>\n",
              "      <td>3</td>\n",
              "    </tr>\n",
              "    <tr>\n",
              "      <th>92</th>\n",
              "      <td>[DEATH NOTE,  Death Note,  Confession]</td>\n",
              "      <td>3</td>\n",
              "    </tr>\n",
              "    <tr>\n",
              "      <th>93</th>\n",
              "      <td>[Nada es privado]</td>\n",
              "      <td>1</td>\n",
              "    </tr>\n",
              "  </tbody>\n",
              "</table>\n",
              "<p>94 rows × 2 columns</p>\n",
              "</div>"
            ],
            "text/plain": [
              "                                                Title  num_partes\n",
              "0               [The Witcher,  La pesadilla del lobo]           2\n",
              "1               [Breaking Bad,  Temporada 2,  Rotura]           3\n",
              "2                [Breaking Bad,  Temporada 2,  Abajo]           3\n",
              "3   [Fullmetal Alchemist,  Brotherhood,  Parte 1, ...           4\n",
              "4                      [Mad Max,  Furia en el camino]           2\n",
              "..                                                ...         ...\n",
              "89               [DEATH NOTE,  Death Note,  Decision]           3\n",
              "90                  [DEATH NOTE,  Death Note,  Wager]           3\n",
              "91                 [DEATH NOTE,  Death Note,  Friend]           3\n",
              "92             [DEATH NOTE,  Death Note,  Confession]           3\n",
              "93                                  [Nada es privado]           1\n",
              "\n",
              "[94 rows x 2 columns]"
            ]
          },
          "metadata": {},
          "execution_count": 7
        }
      ]
    },
    {
      "cell_type": "code",
      "metadata": {
        "id": "qZ2U41RcuNI0",
        "colab": {
          "base_uri": "https://localhost:8080/"
        },
        "outputId": "2746958e-5f36-4fef-9be6-82d4e722d873"
      },
      "source": [
        "separacion_lista.num_partes.value_counts()"
      ],
      "execution_count": 8,
      "outputs": [
        {
          "output_type": "execute_result",
          "data": {
            "text/plain": [
              "3    68\n",
              "4    12\n",
              "1    10\n",
              "2     4\n",
              "Name: num_partes, dtype: int64"
            ]
          },
          "metadata": {},
          "execution_count": 8
        }
      ]
    },
    {
      "cell_type": "markdown",
      "metadata": {
        "id": "uFtF_2WX9kIJ"
      },
      "source": [
        "Vamos a analizar los títulos por número de partes a ver si hay algún patrón."
      ]
    },
    {
      "cell_type": "code",
      "metadata": {
        "id": "7PSFrvyrr-fY",
        "colab": {
          "base_uri": "https://localhost:8080/",
          "height": 363
        },
        "outputId": "2b8fd44c-f85f-4701-fa74-741f7c1c588f"
      },
      "source": [
        "separacion_lista.loc[separacion_lista.num_partes == 1].head(10)"
      ],
      "execution_count": 9,
      "outputs": [
        {
          "output_type": "execute_result",
          "data": {
            "text/html": [
              "<div>\n",
              "<style scoped>\n",
              "    .dataframe tbody tr th:only-of-type {\n",
              "        vertical-align: middle;\n",
              "    }\n",
              "\n",
              "    .dataframe tbody tr th {\n",
              "        vertical-align: top;\n",
              "    }\n",
              "\n",
              "    .dataframe thead th {\n",
              "        text-align: right;\n",
              "    }\n",
              "</style>\n",
              "<table border=\"1\" class=\"dataframe\">\n",
              "  <thead>\n",
              "    <tr style=\"text-align: right;\">\n",
              "      <th></th>\n",
              "      <th>Title</th>\n",
              "      <th>num_partes</th>\n",
              "    </tr>\n",
              "  </thead>\n",
              "  <tbody>\n",
              "    <tr>\n",
              "      <th>40</th>\n",
              "      <td>[El juicio de los 7 de Chicago]</td>\n",
              "      <td>1</td>\n",
              "    </tr>\n",
              "    <tr>\n",
              "      <th>43</th>\n",
              "      <td>[Madame Curie]</td>\n",
              "      <td>1</td>\n",
              "    </tr>\n",
              "    <tr>\n",
              "      <th>47</th>\n",
              "      <td>[Ghost in the Shell]</td>\n",
              "      <td>1</td>\n",
              "    </tr>\n",
              "    <tr>\n",
              "      <th>56</th>\n",
              "      <td>[El viaje de Chihiro]</td>\n",
              "      <td>1</td>\n",
              "    </tr>\n",
              "    <tr>\n",
              "      <th>71</th>\n",
              "      <td>[Dunkerque]</td>\n",
              "      <td>1</td>\n",
              "    </tr>\n",
              "    <tr>\n",
              "      <th>76</th>\n",
              "      <td>[Un abrazo de tres minutos]</td>\n",
              "      <td>1</td>\n",
              "    </tr>\n",
              "    <tr>\n",
              "      <th>82</th>\n",
              "      <td>[Los dos papas]</td>\n",
              "      <td>1</td>\n",
              "    </tr>\n",
              "    <tr>\n",
              "      <th>83</th>\n",
              "      <td>[Los siete pecados capitales]</td>\n",
              "      <td>1</td>\n",
              "    </tr>\n",
              "    <tr>\n",
              "      <th>84</th>\n",
              "      <td>[Gánster americano]</td>\n",
              "      <td>1</td>\n",
              "    </tr>\n",
              "    <tr>\n",
              "      <th>93</th>\n",
              "      <td>[Nada es privado]</td>\n",
              "      <td>1</td>\n",
              "    </tr>\n",
              "  </tbody>\n",
              "</table>\n",
              "</div>"
            ],
            "text/plain": [
              "                              Title  num_partes\n",
              "40  [El juicio de los 7 de Chicago]           1\n",
              "43                   [Madame Curie]           1\n",
              "47             [Ghost in the Shell]           1\n",
              "56            [El viaje de Chihiro]           1\n",
              "71                      [Dunkerque]           1\n",
              "76      [Un abrazo de tres minutos]           1\n",
              "82                  [Los dos papas]           1\n",
              "83    [Los siete pecados capitales]           1\n",
              "84              [Gánster americano]           1\n",
              "93                [Nada es privado]           1"
            ]
          },
          "metadata": {},
          "execution_count": 9
        }
      ]
    },
    {
      "cell_type": "code",
      "metadata": {
        "id": "iPvI7604ssup",
        "colab": {
          "base_uri": "https://localhost:8080/",
          "height": 175
        },
        "outputId": "56ecd7b3-eb5c-4199-99b7-9a00230adb4a"
      },
      "source": [
        "separacion_lista.loc[separacion_lista.num_partes == 2].head(10)"
      ],
      "execution_count": 10,
      "outputs": [
        {
          "output_type": "execute_result",
          "data": {
            "text/html": [
              "<div>\n",
              "<style scoped>\n",
              "    .dataframe tbody tr th:only-of-type {\n",
              "        vertical-align: middle;\n",
              "    }\n",
              "\n",
              "    .dataframe tbody tr th {\n",
              "        vertical-align: top;\n",
              "    }\n",
              "\n",
              "    .dataframe thead th {\n",
              "        text-align: right;\n",
              "    }\n",
              "</style>\n",
              "<table border=\"1\" class=\"dataframe\">\n",
              "  <thead>\n",
              "    <tr style=\"text-align: right;\">\n",
              "      <th></th>\n",
              "      <th>Title</th>\n",
              "      <th>num_partes</th>\n",
              "    </tr>\n",
              "  </thead>\n",
              "  <tbody>\n",
              "    <tr>\n",
              "      <th>0</th>\n",
              "      <td>[The Witcher,  La pesadilla del lobo]</td>\n",
              "      <td>2</td>\n",
              "    </tr>\n",
              "    <tr>\n",
              "      <th>4</th>\n",
              "      <td>[Mad Max,  Furia en el camino]</td>\n",
              "      <td>2</td>\n",
              "    </tr>\n",
              "    <tr>\n",
              "      <th>42</th>\n",
              "      <td>[Héroes,  Silencio y rock &amp; roll]</td>\n",
              "      <td>2</td>\n",
              "    </tr>\n",
              "    <tr>\n",
              "      <th>77</th>\n",
              "      <td>[Winter on Fire,  Ukraine's Fight for Freedom]</td>\n",
              "      <td>2</td>\n",
              "    </tr>\n",
              "  </tbody>\n",
              "</table>\n",
              "</div>"
            ],
            "text/plain": [
              "                                             Title  num_partes\n",
              "0            [The Witcher,  La pesadilla del lobo]           2\n",
              "4                   [Mad Max,  Furia en el camino]           2\n",
              "42               [Héroes,  Silencio y rock & roll]           2\n",
              "77  [Winter on Fire,  Ukraine's Fight for Freedom]           2"
            ]
          },
          "metadata": {},
          "execution_count": 10
        }
      ]
    },
    {
      "cell_type": "code",
      "metadata": {
        "id": "O8g4horetX0P",
        "colab": {
          "base_uri": "https://localhost:8080/",
          "height": 363
        },
        "outputId": "c814b323-e208-4334-85d8-e07f1381eb02"
      },
      "source": [
        "separacion_lista.loc[separacion_lista.num_partes == 3].head(10)"
      ],
      "execution_count": 11,
      "outputs": [
        {
          "output_type": "execute_result",
          "data": {
            "text/html": [
              "<div>\n",
              "<style scoped>\n",
              "    .dataframe tbody tr th:only-of-type {\n",
              "        vertical-align: middle;\n",
              "    }\n",
              "\n",
              "    .dataframe tbody tr th {\n",
              "        vertical-align: top;\n",
              "    }\n",
              "\n",
              "    .dataframe thead th {\n",
              "        text-align: right;\n",
              "    }\n",
              "</style>\n",
              "<table border=\"1\" class=\"dataframe\">\n",
              "  <thead>\n",
              "    <tr style=\"text-align: right;\">\n",
              "      <th></th>\n",
              "      <th>Title</th>\n",
              "      <th>num_partes</th>\n",
              "    </tr>\n",
              "  </thead>\n",
              "  <tbody>\n",
              "    <tr>\n",
              "      <th>1</th>\n",
              "      <td>[Breaking Bad,  Temporada 2,  Rotura]</td>\n",
              "      <td>3</td>\n",
              "    </tr>\n",
              "    <tr>\n",
              "      <th>2</th>\n",
              "      <td>[Breaking Bad,  Temporada 2,  Abajo]</td>\n",
              "      <td>3</td>\n",
              "    </tr>\n",
              "    <tr>\n",
              "      <th>5</th>\n",
              "      <td>[Castlevania,  Temporada 4,  Ha sido un viaje ...</td>\n",
              "      <td>3</td>\n",
              "    </tr>\n",
              "    <tr>\n",
              "      <th>6</th>\n",
              "      <td>[Castlevania,  Temporada 4,  El final]</td>\n",
              "      <td>3</td>\n",
              "    </tr>\n",
              "    <tr>\n",
              "      <th>7</th>\n",
              "      <td>[Castlevania,  Temporada 4,  Magia de muerte]</td>\n",
              "      <td>3</td>\n",
              "    </tr>\n",
              "    <tr>\n",
              "      <th>8</th>\n",
              "      <td>[Castlevania,  Temporada 4,  La gran obra]</td>\n",
              "      <td>3</td>\n",
              "    </tr>\n",
              "    <tr>\n",
              "      <th>9</th>\n",
              "      <td>[Castlevania,  Temporada 4,  No merecen mi san...</td>\n",
              "      <td>3</td>\n",
              "    </tr>\n",
              "    <tr>\n",
              "      <th>10</th>\n",
              "      <td>[Castlevania,  Temporada 4,  Volver a la vida]</td>\n",
              "      <td>3</td>\n",
              "    </tr>\n",
              "    <tr>\n",
              "      <th>11</th>\n",
              "      <td>[Castlevania,  Temporada 4,  Sacrificar todo]</td>\n",
              "      <td>3</td>\n",
              "    </tr>\n",
              "    <tr>\n",
              "      <th>12</th>\n",
              "      <td>[Castlevania,  Temporada 4,  Sigue caminando]</td>\n",
              "      <td>3</td>\n",
              "    </tr>\n",
              "  </tbody>\n",
              "</table>\n",
              "</div>"
            ],
            "text/plain": [
              "                                                Title  num_partes\n",
              "1               [Breaking Bad,  Temporada 2,  Rotura]           3\n",
              "2                [Breaking Bad,  Temporada 2,  Abajo]           3\n",
              "5   [Castlevania,  Temporada 4,  Ha sido un viaje ...           3\n",
              "6              [Castlevania,  Temporada 4,  El final]           3\n",
              "7       [Castlevania,  Temporada 4,  Magia de muerte]           3\n",
              "8          [Castlevania,  Temporada 4,  La gran obra]           3\n",
              "9   [Castlevania,  Temporada 4,  No merecen mi san...           3\n",
              "10     [Castlevania,  Temporada 4,  Volver a la vida]           3\n",
              "11      [Castlevania,  Temporada 4,  Sacrificar todo]           3\n",
              "12      [Castlevania,  Temporada 4,  Sigue caminando]           3"
            ]
          },
          "metadata": {},
          "execution_count": 11
        }
      ]
    },
    {
      "cell_type": "code",
      "metadata": {
        "id": "sCWbwtyztkPY",
        "colab": {
          "base_uri": "https://localhost:8080/",
          "height": 363
        },
        "outputId": "c0b6cc8e-95b4-463e-98fa-1157e02c27d5"
      },
      "source": [
        "separacion_lista.loc[separacion_lista.num_partes == 4].head(10)"
      ],
      "execution_count": 12,
      "outputs": [
        {
          "output_type": "execute_result",
          "data": {
            "text/html": [
              "<div>\n",
              "<style scoped>\n",
              "    .dataframe tbody tr th:only-of-type {\n",
              "        vertical-align: middle;\n",
              "    }\n",
              "\n",
              "    .dataframe tbody tr th {\n",
              "        vertical-align: top;\n",
              "    }\n",
              "\n",
              "    .dataframe thead th {\n",
              "        text-align: right;\n",
              "    }\n",
              "</style>\n",
              "<table border=\"1\" class=\"dataframe\">\n",
              "  <thead>\n",
              "    <tr style=\"text-align: right;\">\n",
              "      <th></th>\n",
              "      <th>Title</th>\n",
              "      <th>num_partes</th>\n",
              "    </tr>\n",
              "  </thead>\n",
              "  <tbody>\n",
              "    <tr>\n",
              "      <th>3</th>\n",
              "      <td>[Fullmetal Alchemist,  Brotherhood,  Parte 1, ...</td>\n",
              "      <td>4</td>\n",
              "    </tr>\n",
              "    <tr>\n",
              "      <th>15</th>\n",
              "      <td>[Amos del Universo,  Revelación,  Parte 1,  El...</td>\n",
              "      <td>4</td>\n",
              "    </tr>\n",
              "    <tr>\n",
              "      <th>16</th>\n",
              "      <td>[Amos del Universo,  Revelación,  Parte 1,  El...</td>\n",
              "      <td>4</td>\n",
              "    </tr>\n",
              "    <tr>\n",
              "      <th>44</th>\n",
              "      <td>[13 de noviembre,  Terror en París,  Miniserie...</td>\n",
              "      <td>4</td>\n",
              "    </tr>\n",
              "    <tr>\n",
              "      <th>46</th>\n",
              "      <td>[13 de noviembre,  Terror en París,  Miniserie...</td>\n",
              "      <td>4</td>\n",
              "    </tr>\n",
              "    <tr>\n",
              "      <th>48</th>\n",
              "      <td>[Ghost in the Shell,  SAC_2045,  Temporada 1, ...</td>\n",
              "      <td>4</td>\n",
              "    </tr>\n",
              "    <tr>\n",
              "      <th>49</th>\n",
              "      <td>[Ghost in the Shell,  SAC_2045,  Temporada 1, ...</td>\n",
              "      <td>4</td>\n",
              "    </tr>\n",
              "    <tr>\n",
              "      <th>50</th>\n",
              "      <td>[Ghost in the Shell,  SAC_2045,  Temporada 1, ...</td>\n",
              "      <td>4</td>\n",
              "    </tr>\n",
              "    <tr>\n",
              "      <th>51</th>\n",
              "      <td>[Ghost in the Shell,  SAC_2045,  Temporada 1, ...</td>\n",
              "      <td>4</td>\n",
              "    </tr>\n",
              "    <tr>\n",
              "      <th>54</th>\n",
              "      <td>[After Life,  Más allá de mi mujer,  Temporada...</td>\n",
              "      <td>4</td>\n",
              "    </tr>\n",
              "  </tbody>\n",
              "</table>\n",
              "</div>"
            ],
            "text/plain": [
              "                                                Title  num_partes\n",
              "3   [Fullmetal Alchemist,  Brotherhood,  Parte 1, ...           4\n",
              "15  [Amos del Universo,  Revelación,  Parte 1,  El...           4\n",
              "16  [Amos del Universo,  Revelación,  Parte 1,  El...           4\n",
              "44  [13 de noviembre,  Terror en París,  Miniserie...           4\n",
              "46  [13 de noviembre,  Terror en París,  Miniserie...           4\n",
              "48  [Ghost in the Shell,  SAC_2045,  Temporada 1, ...           4\n",
              "49  [Ghost in the Shell,  SAC_2045,  Temporada 1, ...           4\n",
              "50  [Ghost in the Shell,  SAC_2045,  Temporada 1, ...           4\n",
              "51  [Ghost in the Shell,  SAC_2045,  Temporada 1, ...           4\n",
              "54  [After Life,  Más allá de mi mujer,  Temporada...           4"
            ]
          },
          "metadata": {},
          "execution_count": 12
        }
      ]
    },
    {
      "cell_type": "markdown",
      "metadata": {
        "id": "bxFRuxZv5hbA"
      },
      "source": [
        "## 3. CREACIÓN DE VARIABLES"
      ]
    },
    {
      "cell_type": "markdown",
      "metadata": {
        "id": "XoCuooTE95pX"
      },
      "source": [
        "Nuestro dataset original tiene muy pocas variables, pero con un poco de trabajo podemos generar nuevas variables. Este proceso se llama \"feature extraction\"."
      ]
    },
    {
      "cell_type": "markdown",
      "metadata": {
        "id": "jcdoTkUg6BxQ"
      },
      "source": [
        "### 3.1 VARIABLES DERIVADAS DEL TÍTULO"
      ]
    },
    {
      "cell_type": "code",
      "metadata": {
        "id": "c9FS7Sq6winM",
        "colab": {
          "base_uri": "https://localhost:8080/",
          "height": 424
        },
        "outputId": "31334023-8356-4a4e-bb3b-daeedf397f3c"
      },
      "source": [
        "import numpy as np\n",
        "\n",
        "separacion_lista['tipo'] = np.where(separacion_lista.num_partes <3, 'pelicula', 'serie')\n",
        "separacion_lista"
      ],
      "execution_count": 14,
      "outputs": [
        {
          "output_type": "execute_result",
          "data": {
            "text/html": [
              "<div>\n",
              "<style scoped>\n",
              "    .dataframe tbody tr th:only-of-type {\n",
              "        vertical-align: middle;\n",
              "    }\n",
              "\n",
              "    .dataframe tbody tr th {\n",
              "        vertical-align: top;\n",
              "    }\n",
              "\n",
              "    .dataframe thead th {\n",
              "        text-align: right;\n",
              "    }\n",
              "</style>\n",
              "<table border=\"1\" class=\"dataframe\">\n",
              "  <thead>\n",
              "    <tr style=\"text-align: right;\">\n",
              "      <th></th>\n",
              "      <th>Title</th>\n",
              "      <th>num_partes</th>\n",
              "      <th>tipo</th>\n",
              "    </tr>\n",
              "  </thead>\n",
              "  <tbody>\n",
              "    <tr>\n",
              "      <th>0</th>\n",
              "      <td>[The Witcher,  La pesadilla del lobo]</td>\n",
              "      <td>2</td>\n",
              "      <td>pelicula</td>\n",
              "    </tr>\n",
              "    <tr>\n",
              "      <th>1</th>\n",
              "      <td>[Breaking Bad,  Temporada 2,  Rotura]</td>\n",
              "      <td>3</td>\n",
              "      <td>serie</td>\n",
              "    </tr>\n",
              "    <tr>\n",
              "      <th>2</th>\n",
              "      <td>[Breaking Bad,  Temporada 2,  Abajo]</td>\n",
              "      <td>3</td>\n",
              "      <td>serie</td>\n",
              "    </tr>\n",
              "    <tr>\n",
              "      <th>3</th>\n",
              "      <td>[Fullmetal Alchemist,  Brotherhood,  Parte 1, ...</td>\n",
              "      <td>4</td>\n",
              "      <td>serie</td>\n",
              "    </tr>\n",
              "    <tr>\n",
              "      <th>4</th>\n",
              "      <td>[Mad Max,  Furia en el camino]</td>\n",
              "      <td>2</td>\n",
              "      <td>pelicula</td>\n",
              "    </tr>\n",
              "    <tr>\n",
              "      <th>...</th>\n",
              "      <td>...</td>\n",
              "      <td>...</td>\n",
              "      <td>...</td>\n",
              "    </tr>\n",
              "    <tr>\n",
              "      <th>89</th>\n",
              "      <td>[DEATH NOTE,  Death Note,  Decision]</td>\n",
              "      <td>3</td>\n",
              "      <td>serie</td>\n",
              "    </tr>\n",
              "    <tr>\n",
              "      <th>90</th>\n",
              "      <td>[DEATH NOTE,  Death Note,  Wager]</td>\n",
              "      <td>3</td>\n",
              "      <td>serie</td>\n",
              "    </tr>\n",
              "    <tr>\n",
              "      <th>91</th>\n",
              "      <td>[DEATH NOTE,  Death Note,  Friend]</td>\n",
              "      <td>3</td>\n",
              "      <td>serie</td>\n",
              "    </tr>\n",
              "    <tr>\n",
              "      <th>92</th>\n",
              "      <td>[DEATH NOTE,  Death Note,  Confession]</td>\n",
              "      <td>3</td>\n",
              "      <td>serie</td>\n",
              "    </tr>\n",
              "    <tr>\n",
              "      <th>93</th>\n",
              "      <td>[Nada es privado]</td>\n",
              "      <td>1</td>\n",
              "      <td>pelicula</td>\n",
              "    </tr>\n",
              "  </tbody>\n",
              "</table>\n",
              "<p>94 rows × 3 columns</p>\n",
              "</div>"
            ],
            "text/plain": [
              "                                                Title  num_partes      tipo\n",
              "0               [The Witcher,  La pesadilla del lobo]           2  pelicula\n",
              "1               [Breaking Bad,  Temporada 2,  Rotura]           3     serie\n",
              "2                [Breaking Bad,  Temporada 2,  Abajo]           3     serie\n",
              "3   [Fullmetal Alchemist,  Brotherhood,  Parte 1, ...           4     serie\n",
              "4                      [Mad Max,  Furia en el camino]           2  pelicula\n",
              "..                                                ...         ...       ...\n",
              "89               [DEATH NOTE,  Death Note,  Decision]           3     serie\n",
              "90                  [DEATH NOTE,  Death Note,  Wager]           3     serie\n",
              "91                 [DEATH NOTE,  Death Note,  Friend]           3     serie\n",
              "92             [DEATH NOTE,  Death Note,  Confession]           3     serie\n",
              "93                                  [Nada es privado]           1  pelicula\n",
              "\n",
              "[94 rows x 3 columns]"
            ]
          },
          "metadata": {},
          "execution_count": 14
        }
      ]
    },
    {
      "cell_type": "code",
      "metadata": {
        "id": "srnHP0nOxFLq",
        "colab": {
          "base_uri": "https://localhost:8080/",
          "height": 424
        },
        "outputId": "3a7170e0-6973-440c-b9a6-888f79b1d636"
      },
      "source": [
        "df = pd.concat([df,separacion_lista['tipo']], axis = 1)\n",
        "df"
      ],
      "execution_count": 15,
      "outputs": [
        {
          "output_type": "execute_result",
          "data": {
            "text/html": [
              "<div>\n",
              "<style scoped>\n",
              "    .dataframe tbody tr th:only-of-type {\n",
              "        vertical-align: middle;\n",
              "    }\n",
              "\n",
              "    .dataframe tbody tr th {\n",
              "        vertical-align: top;\n",
              "    }\n",
              "\n",
              "    .dataframe thead th {\n",
              "        text-align: right;\n",
              "    }\n",
              "</style>\n",
              "<table border=\"1\" class=\"dataframe\">\n",
              "  <thead>\n",
              "    <tr style=\"text-align: right;\">\n",
              "      <th></th>\n",
              "      <th>Title</th>\n",
              "      <th>Date</th>\n",
              "      <th>tipo</th>\n",
              "    </tr>\n",
              "  </thead>\n",
              "  <tbody>\n",
              "    <tr>\n",
              "      <th>0</th>\n",
              "      <td>The Witcher: La pesadilla del lobo</td>\n",
              "      <td>25/8/21</td>\n",
              "      <td>pelicula</td>\n",
              "    </tr>\n",
              "    <tr>\n",
              "      <th>1</th>\n",
              "      <td>Breaking Bad: Temporada 2: Rotura</td>\n",
              "      <td>9/8/21</td>\n",
              "      <td>serie</td>\n",
              "    </tr>\n",
              "    <tr>\n",
              "      <th>2</th>\n",
              "      <td>Breaking Bad: Temporada 2: Abajo</td>\n",
              "      <td>9/8/21</td>\n",
              "      <td>serie</td>\n",
              "    </tr>\n",
              "    <tr>\n",
              "      <th>3</th>\n",
              "      <td>Fullmetal Alchemist: Brotherhood: Parte 1: El ...</td>\n",
              "      <td>8/8/21</td>\n",
              "      <td>serie</td>\n",
              "    </tr>\n",
              "    <tr>\n",
              "      <th>4</th>\n",
              "      <td>Mad Max: Furia en el camino</td>\n",
              "      <td>5/8/21</td>\n",
              "      <td>pelicula</td>\n",
              "    </tr>\n",
              "    <tr>\n",
              "      <th>...</th>\n",
              "      <td>...</td>\n",
              "      <td>...</td>\n",
              "      <td>...</td>\n",
              "    </tr>\n",
              "    <tr>\n",
              "      <th>89</th>\n",
              "      <td>DEATH NOTE: Death Note: Decision</td>\n",
              "      <td>5/12/20</td>\n",
              "      <td>serie</td>\n",
              "    </tr>\n",
              "    <tr>\n",
              "      <th>90</th>\n",
              "      <td>DEATH NOTE: Death Note: Wager</td>\n",
              "      <td>5/12/20</td>\n",
              "      <td>serie</td>\n",
              "    </tr>\n",
              "    <tr>\n",
              "      <th>91</th>\n",
              "      <td>DEATH NOTE: Death Note: Friend</td>\n",
              "      <td>5/12/20</td>\n",
              "      <td>serie</td>\n",
              "    </tr>\n",
              "    <tr>\n",
              "      <th>92</th>\n",
              "      <td>DEATH NOTE: Death Note: Confession</td>\n",
              "      <td>5/12/20</td>\n",
              "      <td>serie</td>\n",
              "    </tr>\n",
              "    <tr>\n",
              "      <th>93</th>\n",
              "      <td>Nada es privado</td>\n",
              "      <td>14/11/20</td>\n",
              "      <td>pelicula</td>\n",
              "    </tr>\n",
              "  </tbody>\n",
              "</table>\n",
              "<p>94 rows × 3 columns</p>\n",
              "</div>"
            ],
            "text/plain": [
              "                                                Title      Date      tipo\n",
              "0                  The Witcher: La pesadilla del lobo   25/8/21  pelicula\n",
              "1                   Breaking Bad: Temporada 2: Rotura    9/8/21     serie\n",
              "2                    Breaking Bad: Temporada 2: Abajo    9/8/21     serie\n",
              "3   Fullmetal Alchemist: Brotherhood: Parte 1: El ...    8/8/21     serie\n",
              "4                         Mad Max: Furia en el camino    5/8/21  pelicula\n",
              "..                                                ...       ...       ...\n",
              "89                   DEATH NOTE: Death Note: Decision   5/12/20     serie\n",
              "90                      DEATH NOTE: Death Note: Wager   5/12/20     serie\n",
              "91                     DEATH NOTE: Death Note: Friend   5/12/20     serie\n",
              "92                 DEATH NOTE: Death Note: Confession   5/12/20     serie\n",
              "93                                    Nada es privado  14/11/20  pelicula\n",
              "\n",
              "[94 rows x 3 columns]"
            ]
          },
          "metadata": {},
          "execution_count": 15
        }
      ]
    },
    {
      "cell_type": "markdown",
      "metadata": {
        "id": "AUMtzBNN-Sdg"
      },
      "source": [
        "Vamos a dividir los títulos en sus diferentes niveles y generar así nuevas variables"
      ]
    },
    {
      "cell_type": "code",
      "metadata": {
        "id": "WBFye4qRtl5v",
        "colab": {
          "base_uri": "https://localhost:8080/",
          "height": 424
        },
        "outputId": "576d85f2-da21-4d8d-a56b-8cdb62e0b822"
      },
      "source": [
        "separacion_cols = df.Title.str.split(pat = ':', expand=True)\n",
        "separacion_cols"
      ],
      "execution_count": 16,
      "outputs": [
        {
          "output_type": "execute_result",
          "data": {
            "text/html": [
              "<div>\n",
              "<style scoped>\n",
              "    .dataframe tbody tr th:only-of-type {\n",
              "        vertical-align: middle;\n",
              "    }\n",
              "\n",
              "    .dataframe tbody tr th {\n",
              "        vertical-align: top;\n",
              "    }\n",
              "\n",
              "    .dataframe thead th {\n",
              "        text-align: right;\n",
              "    }\n",
              "</style>\n",
              "<table border=\"1\" class=\"dataframe\">\n",
              "  <thead>\n",
              "    <tr style=\"text-align: right;\">\n",
              "      <th></th>\n",
              "      <th>0</th>\n",
              "      <th>1</th>\n",
              "      <th>2</th>\n",
              "      <th>3</th>\n",
              "    </tr>\n",
              "  </thead>\n",
              "  <tbody>\n",
              "    <tr>\n",
              "      <th>0</th>\n",
              "      <td>The Witcher</td>\n",
              "      <td>La pesadilla del lobo</td>\n",
              "      <td>None</td>\n",
              "      <td>None</td>\n",
              "    </tr>\n",
              "    <tr>\n",
              "      <th>1</th>\n",
              "      <td>Breaking Bad</td>\n",
              "      <td>Temporada 2</td>\n",
              "      <td>Rotura</td>\n",
              "      <td>None</td>\n",
              "    </tr>\n",
              "    <tr>\n",
              "      <th>2</th>\n",
              "      <td>Breaking Bad</td>\n",
              "      <td>Temporada 2</td>\n",
              "      <td>Abajo</td>\n",
              "      <td>None</td>\n",
              "    </tr>\n",
              "    <tr>\n",
              "      <th>3</th>\n",
              "      <td>Fullmetal Alchemist</td>\n",
              "      <td>Brotherhood</td>\n",
              "      <td>Parte 1</td>\n",
              "      <td>El alquimista de acero</td>\n",
              "    </tr>\n",
              "    <tr>\n",
              "      <th>4</th>\n",
              "      <td>Mad Max</td>\n",
              "      <td>Furia en el camino</td>\n",
              "      <td>None</td>\n",
              "      <td>None</td>\n",
              "    </tr>\n",
              "    <tr>\n",
              "      <th>...</th>\n",
              "      <td>...</td>\n",
              "      <td>...</td>\n",
              "      <td>...</td>\n",
              "      <td>...</td>\n",
              "    </tr>\n",
              "    <tr>\n",
              "      <th>89</th>\n",
              "      <td>DEATH NOTE</td>\n",
              "      <td>Death Note</td>\n",
              "      <td>Decision</td>\n",
              "      <td>None</td>\n",
              "    </tr>\n",
              "    <tr>\n",
              "      <th>90</th>\n",
              "      <td>DEATH NOTE</td>\n",
              "      <td>Death Note</td>\n",
              "      <td>Wager</td>\n",
              "      <td>None</td>\n",
              "    </tr>\n",
              "    <tr>\n",
              "      <th>91</th>\n",
              "      <td>DEATH NOTE</td>\n",
              "      <td>Death Note</td>\n",
              "      <td>Friend</td>\n",
              "      <td>None</td>\n",
              "    </tr>\n",
              "    <tr>\n",
              "      <th>92</th>\n",
              "      <td>DEATH NOTE</td>\n",
              "      <td>Death Note</td>\n",
              "      <td>Confession</td>\n",
              "      <td>None</td>\n",
              "    </tr>\n",
              "    <tr>\n",
              "      <th>93</th>\n",
              "      <td>Nada es privado</td>\n",
              "      <td>None</td>\n",
              "      <td>None</td>\n",
              "      <td>None</td>\n",
              "    </tr>\n",
              "  </tbody>\n",
              "</table>\n",
              "<p>94 rows × 4 columns</p>\n",
              "</div>"
            ],
            "text/plain": [
              "                      0  ...                        3\n",
              "0           The Witcher  ...                     None\n",
              "1          Breaking Bad  ...                     None\n",
              "2          Breaking Bad  ...                     None\n",
              "3   Fullmetal Alchemist  ...   El alquimista de acero\n",
              "4               Mad Max  ...                     None\n",
              "..                  ...  ...                      ...\n",
              "89           DEATH NOTE  ...                     None\n",
              "90           DEATH NOTE  ...                     None\n",
              "91           DEATH NOTE  ...                     None\n",
              "92           DEATH NOTE  ...                     None\n",
              "93      Nada es privado  ...                     None\n",
              "\n",
              "[94 rows x 4 columns]"
            ]
          },
          "metadata": {},
          "execution_count": 16
        }
      ]
    },
    {
      "cell_type": "code",
      "metadata": {
        "id": "9eZcJ4pKt1wX",
        "colab": {
          "base_uri": "https://localhost:8080/",
          "height": 424
        },
        "outputId": "0f4189f6-8b27-4703-ac75-cdcb7587f7f9"
      },
      "source": [
        "separacion_cols.columns = ['nivel1','nivel2','nivel3','nivel4']\n",
        "separacion_cols"
      ],
      "execution_count": 18,
      "outputs": [
        {
          "output_type": "execute_result",
          "data": {
            "text/html": [
              "<div>\n",
              "<style scoped>\n",
              "    .dataframe tbody tr th:only-of-type {\n",
              "        vertical-align: middle;\n",
              "    }\n",
              "\n",
              "    .dataframe tbody tr th {\n",
              "        vertical-align: top;\n",
              "    }\n",
              "\n",
              "    .dataframe thead th {\n",
              "        text-align: right;\n",
              "    }\n",
              "</style>\n",
              "<table border=\"1\" class=\"dataframe\">\n",
              "  <thead>\n",
              "    <tr style=\"text-align: right;\">\n",
              "      <th></th>\n",
              "      <th>nivel1</th>\n",
              "      <th>nivel2</th>\n",
              "      <th>nivel3</th>\n",
              "      <th>nivel4</th>\n",
              "    </tr>\n",
              "  </thead>\n",
              "  <tbody>\n",
              "    <tr>\n",
              "      <th>0</th>\n",
              "      <td>The Witcher</td>\n",
              "      <td>La pesadilla del lobo</td>\n",
              "      <td>None</td>\n",
              "      <td>None</td>\n",
              "    </tr>\n",
              "    <tr>\n",
              "      <th>1</th>\n",
              "      <td>Breaking Bad</td>\n",
              "      <td>Temporada 2</td>\n",
              "      <td>Rotura</td>\n",
              "      <td>None</td>\n",
              "    </tr>\n",
              "    <tr>\n",
              "      <th>2</th>\n",
              "      <td>Breaking Bad</td>\n",
              "      <td>Temporada 2</td>\n",
              "      <td>Abajo</td>\n",
              "      <td>None</td>\n",
              "    </tr>\n",
              "    <tr>\n",
              "      <th>3</th>\n",
              "      <td>Fullmetal Alchemist</td>\n",
              "      <td>Brotherhood</td>\n",
              "      <td>Parte 1</td>\n",
              "      <td>El alquimista de acero</td>\n",
              "    </tr>\n",
              "    <tr>\n",
              "      <th>4</th>\n",
              "      <td>Mad Max</td>\n",
              "      <td>Furia en el camino</td>\n",
              "      <td>None</td>\n",
              "      <td>None</td>\n",
              "    </tr>\n",
              "    <tr>\n",
              "      <th>...</th>\n",
              "      <td>...</td>\n",
              "      <td>...</td>\n",
              "      <td>...</td>\n",
              "      <td>...</td>\n",
              "    </tr>\n",
              "    <tr>\n",
              "      <th>89</th>\n",
              "      <td>DEATH NOTE</td>\n",
              "      <td>Death Note</td>\n",
              "      <td>Decision</td>\n",
              "      <td>None</td>\n",
              "    </tr>\n",
              "    <tr>\n",
              "      <th>90</th>\n",
              "      <td>DEATH NOTE</td>\n",
              "      <td>Death Note</td>\n",
              "      <td>Wager</td>\n",
              "      <td>None</td>\n",
              "    </tr>\n",
              "    <tr>\n",
              "      <th>91</th>\n",
              "      <td>DEATH NOTE</td>\n",
              "      <td>Death Note</td>\n",
              "      <td>Friend</td>\n",
              "      <td>None</td>\n",
              "    </tr>\n",
              "    <tr>\n",
              "      <th>92</th>\n",
              "      <td>DEATH NOTE</td>\n",
              "      <td>Death Note</td>\n",
              "      <td>Confession</td>\n",
              "      <td>None</td>\n",
              "    </tr>\n",
              "    <tr>\n",
              "      <th>93</th>\n",
              "      <td>Nada es privado</td>\n",
              "      <td>None</td>\n",
              "      <td>None</td>\n",
              "      <td>None</td>\n",
              "    </tr>\n",
              "  </tbody>\n",
              "</table>\n",
              "<p>94 rows × 4 columns</p>\n",
              "</div>"
            ],
            "text/plain": [
              "                 nivel1  ...                   nivel4\n",
              "0           The Witcher  ...                     None\n",
              "1          Breaking Bad  ...                     None\n",
              "2          Breaking Bad  ...                     None\n",
              "3   Fullmetal Alchemist  ...   El alquimista de acero\n",
              "4               Mad Max  ...                     None\n",
              "..                  ...  ...                      ...\n",
              "89           DEATH NOTE  ...                     None\n",
              "90           DEATH NOTE  ...                     None\n",
              "91           DEATH NOTE  ...                     None\n",
              "92           DEATH NOTE  ...                     None\n",
              "93      Nada es privado  ...                     None\n",
              "\n",
              "[94 rows x 4 columns]"
            ]
          },
          "metadata": {},
          "execution_count": 18
        }
      ]
    },
    {
      "cell_type": "code",
      "metadata": {
        "id": "ix7_i_q3umdw",
        "colab": {
          "base_uri": "https://localhost:8080/",
          "height": 424
        },
        "outputId": "03e83fff-934f-4b68-d780-bf0d18dd72ef"
      },
      "source": [
        "df = pd.concat([df,separacion_cols], axis = 1)\n",
        "df"
      ],
      "execution_count": 19,
      "outputs": [
        {
          "output_type": "execute_result",
          "data": {
            "text/html": [
              "<div>\n",
              "<style scoped>\n",
              "    .dataframe tbody tr th:only-of-type {\n",
              "        vertical-align: middle;\n",
              "    }\n",
              "\n",
              "    .dataframe tbody tr th {\n",
              "        vertical-align: top;\n",
              "    }\n",
              "\n",
              "    .dataframe thead th {\n",
              "        text-align: right;\n",
              "    }\n",
              "</style>\n",
              "<table border=\"1\" class=\"dataframe\">\n",
              "  <thead>\n",
              "    <tr style=\"text-align: right;\">\n",
              "      <th></th>\n",
              "      <th>Title</th>\n",
              "      <th>Date</th>\n",
              "      <th>tipo</th>\n",
              "      <th>nivel1</th>\n",
              "      <th>nivel2</th>\n",
              "      <th>nivel3</th>\n",
              "      <th>nivel4</th>\n",
              "    </tr>\n",
              "  </thead>\n",
              "  <tbody>\n",
              "    <tr>\n",
              "      <th>0</th>\n",
              "      <td>The Witcher: La pesadilla del lobo</td>\n",
              "      <td>25/8/21</td>\n",
              "      <td>pelicula</td>\n",
              "      <td>The Witcher</td>\n",
              "      <td>La pesadilla del lobo</td>\n",
              "      <td>None</td>\n",
              "      <td>None</td>\n",
              "    </tr>\n",
              "    <tr>\n",
              "      <th>1</th>\n",
              "      <td>Breaking Bad: Temporada 2: Rotura</td>\n",
              "      <td>9/8/21</td>\n",
              "      <td>serie</td>\n",
              "      <td>Breaking Bad</td>\n",
              "      <td>Temporada 2</td>\n",
              "      <td>Rotura</td>\n",
              "      <td>None</td>\n",
              "    </tr>\n",
              "    <tr>\n",
              "      <th>2</th>\n",
              "      <td>Breaking Bad: Temporada 2: Abajo</td>\n",
              "      <td>9/8/21</td>\n",
              "      <td>serie</td>\n",
              "      <td>Breaking Bad</td>\n",
              "      <td>Temporada 2</td>\n",
              "      <td>Abajo</td>\n",
              "      <td>None</td>\n",
              "    </tr>\n",
              "    <tr>\n",
              "      <th>3</th>\n",
              "      <td>Fullmetal Alchemist: Brotherhood: Parte 1: El ...</td>\n",
              "      <td>8/8/21</td>\n",
              "      <td>serie</td>\n",
              "      <td>Fullmetal Alchemist</td>\n",
              "      <td>Brotherhood</td>\n",
              "      <td>Parte 1</td>\n",
              "      <td>El alquimista de acero</td>\n",
              "    </tr>\n",
              "    <tr>\n",
              "      <th>4</th>\n",
              "      <td>Mad Max: Furia en el camino</td>\n",
              "      <td>5/8/21</td>\n",
              "      <td>pelicula</td>\n",
              "      <td>Mad Max</td>\n",
              "      <td>Furia en el camino</td>\n",
              "      <td>None</td>\n",
              "      <td>None</td>\n",
              "    </tr>\n",
              "    <tr>\n",
              "      <th>...</th>\n",
              "      <td>...</td>\n",
              "      <td>...</td>\n",
              "      <td>...</td>\n",
              "      <td>...</td>\n",
              "      <td>...</td>\n",
              "      <td>...</td>\n",
              "      <td>...</td>\n",
              "    </tr>\n",
              "    <tr>\n",
              "      <th>89</th>\n",
              "      <td>DEATH NOTE: Death Note: Decision</td>\n",
              "      <td>5/12/20</td>\n",
              "      <td>serie</td>\n",
              "      <td>DEATH NOTE</td>\n",
              "      <td>Death Note</td>\n",
              "      <td>Decision</td>\n",
              "      <td>None</td>\n",
              "    </tr>\n",
              "    <tr>\n",
              "      <th>90</th>\n",
              "      <td>DEATH NOTE: Death Note: Wager</td>\n",
              "      <td>5/12/20</td>\n",
              "      <td>serie</td>\n",
              "      <td>DEATH NOTE</td>\n",
              "      <td>Death Note</td>\n",
              "      <td>Wager</td>\n",
              "      <td>None</td>\n",
              "    </tr>\n",
              "    <tr>\n",
              "      <th>91</th>\n",
              "      <td>DEATH NOTE: Death Note: Friend</td>\n",
              "      <td>5/12/20</td>\n",
              "      <td>serie</td>\n",
              "      <td>DEATH NOTE</td>\n",
              "      <td>Death Note</td>\n",
              "      <td>Friend</td>\n",
              "      <td>None</td>\n",
              "    </tr>\n",
              "    <tr>\n",
              "      <th>92</th>\n",
              "      <td>DEATH NOTE: Death Note: Confession</td>\n",
              "      <td>5/12/20</td>\n",
              "      <td>serie</td>\n",
              "      <td>DEATH NOTE</td>\n",
              "      <td>Death Note</td>\n",
              "      <td>Confession</td>\n",
              "      <td>None</td>\n",
              "    </tr>\n",
              "    <tr>\n",
              "      <th>93</th>\n",
              "      <td>Nada es privado</td>\n",
              "      <td>14/11/20</td>\n",
              "      <td>pelicula</td>\n",
              "      <td>Nada es privado</td>\n",
              "      <td>None</td>\n",
              "      <td>None</td>\n",
              "      <td>None</td>\n",
              "    </tr>\n",
              "  </tbody>\n",
              "</table>\n",
              "<p>94 rows × 7 columns</p>\n",
              "</div>"
            ],
            "text/plain": [
              "                                                Title  ...                   nivel4\n",
              "0                  The Witcher: La pesadilla del lobo  ...                     None\n",
              "1                   Breaking Bad: Temporada 2: Rotura  ...                     None\n",
              "2                    Breaking Bad: Temporada 2: Abajo  ...                     None\n",
              "3   Fullmetal Alchemist: Brotherhood: Parte 1: El ...  ...   El alquimista de acero\n",
              "4                         Mad Max: Furia en el camino  ...                     None\n",
              "..                                                ...  ...                      ...\n",
              "89                   DEATH NOTE: Death Note: Decision  ...                     None\n",
              "90                      DEATH NOTE: Death Note: Wager  ...                     None\n",
              "91                     DEATH NOTE: Death Note: Friend  ...                     None\n",
              "92                 DEATH NOTE: Death Note: Confession  ...                     None\n",
              "93                                    Nada es privado  ...                     None\n",
              "\n",
              "[94 rows x 7 columns]"
            ]
          },
          "metadata": {},
          "execution_count": 19
        }
      ]
    },
    {
      "cell_type": "markdown",
      "metadata": {
        "id": "60NkSiYI6IlR"
      },
      "source": [
        "### 3.2 VARIABLES DERIVADAS DE LA FECHA"
      ]
    },
    {
      "cell_type": "markdown",
      "metadata": {
        "id": "qH5-t8U1-cfv"
      },
      "source": [
        "Podemos extraer los diferentes compontentes de una fecha para generar nuevas variables."
      ]
    },
    {
      "cell_type": "code",
      "metadata": {
        "id": "mHWXNdY5uy14",
        "colab": {
          "base_uri": "https://localhost:8080/",
          "height": 424
        },
        "outputId": "ebc468b9-8bd6-4b22-fdad-5d9f59ef36f0"
      },
      "source": [
        "df['fecha'] = pd.to_datetime(df.Date)\n",
        "df.drop(columns = 'Date',inplace = True)\n",
        "df"
      ],
      "execution_count": 20,
      "outputs": [
        {
          "output_type": "execute_result",
          "data": {
            "text/html": [
              "<div>\n",
              "<style scoped>\n",
              "    .dataframe tbody tr th:only-of-type {\n",
              "        vertical-align: middle;\n",
              "    }\n",
              "\n",
              "    .dataframe tbody tr th {\n",
              "        vertical-align: top;\n",
              "    }\n",
              "\n",
              "    .dataframe thead th {\n",
              "        text-align: right;\n",
              "    }\n",
              "</style>\n",
              "<table border=\"1\" class=\"dataframe\">\n",
              "  <thead>\n",
              "    <tr style=\"text-align: right;\">\n",
              "      <th></th>\n",
              "      <th>Title</th>\n",
              "      <th>tipo</th>\n",
              "      <th>nivel1</th>\n",
              "      <th>nivel2</th>\n",
              "      <th>nivel3</th>\n",
              "      <th>nivel4</th>\n",
              "      <th>fecha</th>\n",
              "    </tr>\n",
              "  </thead>\n",
              "  <tbody>\n",
              "    <tr>\n",
              "      <th>0</th>\n",
              "      <td>The Witcher: La pesadilla del lobo</td>\n",
              "      <td>pelicula</td>\n",
              "      <td>The Witcher</td>\n",
              "      <td>La pesadilla del lobo</td>\n",
              "      <td>None</td>\n",
              "      <td>None</td>\n",
              "      <td>2021-08-25</td>\n",
              "    </tr>\n",
              "    <tr>\n",
              "      <th>1</th>\n",
              "      <td>Breaking Bad: Temporada 2: Rotura</td>\n",
              "      <td>serie</td>\n",
              "      <td>Breaking Bad</td>\n",
              "      <td>Temporada 2</td>\n",
              "      <td>Rotura</td>\n",
              "      <td>None</td>\n",
              "      <td>2021-09-08</td>\n",
              "    </tr>\n",
              "    <tr>\n",
              "      <th>2</th>\n",
              "      <td>Breaking Bad: Temporada 2: Abajo</td>\n",
              "      <td>serie</td>\n",
              "      <td>Breaking Bad</td>\n",
              "      <td>Temporada 2</td>\n",
              "      <td>Abajo</td>\n",
              "      <td>None</td>\n",
              "      <td>2021-09-08</td>\n",
              "    </tr>\n",
              "    <tr>\n",
              "      <th>3</th>\n",
              "      <td>Fullmetal Alchemist: Brotherhood: Parte 1: El ...</td>\n",
              "      <td>serie</td>\n",
              "      <td>Fullmetal Alchemist</td>\n",
              "      <td>Brotherhood</td>\n",
              "      <td>Parte 1</td>\n",
              "      <td>El alquimista de acero</td>\n",
              "      <td>2021-08-08</td>\n",
              "    </tr>\n",
              "    <tr>\n",
              "      <th>4</th>\n",
              "      <td>Mad Max: Furia en el camino</td>\n",
              "      <td>pelicula</td>\n",
              "      <td>Mad Max</td>\n",
              "      <td>Furia en el camino</td>\n",
              "      <td>None</td>\n",
              "      <td>None</td>\n",
              "      <td>2021-05-08</td>\n",
              "    </tr>\n",
              "    <tr>\n",
              "      <th>...</th>\n",
              "      <td>...</td>\n",
              "      <td>...</td>\n",
              "      <td>...</td>\n",
              "      <td>...</td>\n",
              "      <td>...</td>\n",
              "      <td>...</td>\n",
              "      <td>...</td>\n",
              "    </tr>\n",
              "    <tr>\n",
              "      <th>89</th>\n",
              "      <td>DEATH NOTE: Death Note: Decision</td>\n",
              "      <td>serie</td>\n",
              "      <td>DEATH NOTE</td>\n",
              "      <td>Death Note</td>\n",
              "      <td>Decision</td>\n",
              "      <td>None</td>\n",
              "      <td>2020-05-12</td>\n",
              "    </tr>\n",
              "    <tr>\n",
              "      <th>90</th>\n",
              "      <td>DEATH NOTE: Death Note: Wager</td>\n",
              "      <td>serie</td>\n",
              "      <td>DEATH NOTE</td>\n",
              "      <td>Death Note</td>\n",
              "      <td>Wager</td>\n",
              "      <td>None</td>\n",
              "      <td>2020-05-12</td>\n",
              "    </tr>\n",
              "    <tr>\n",
              "      <th>91</th>\n",
              "      <td>DEATH NOTE: Death Note: Friend</td>\n",
              "      <td>serie</td>\n",
              "      <td>DEATH NOTE</td>\n",
              "      <td>Death Note</td>\n",
              "      <td>Friend</td>\n",
              "      <td>None</td>\n",
              "      <td>2020-05-12</td>\n",
              "    </tr>\n",
              "    <tr>\n",
              "      <th>92</th>\n",
              "      <td>DEATH NOTE: Death Note: Confession</td>\n",
              "      <td>serie</td>\n",
              "      <td>DEATH NOTE</td>\n",
              "      <td>Death Note</td>\n",
              "      <td>Confession</td>\n",
              "      <td>None</td>\n",
              "      <td>2020-05-12</td>\n",
              "    </tr>\n",
              "    <tr>\n",
              "      <th>93</th>\n",
              "      <td>Nada es privado</td>\n",
              "      <td>pelicula</td>\n",
              "      <td>Nada es privado</td>\n",
              "      <td>None</td>\n",
              "      <td>None</td>\n",
              "      <td>None</td>\n",
              "      <td>2020-11-14</td>\n",
              "    </tr>\n",
              "  </tbody>\n",
              "</table>\n",
              "<p>94 rows × 7 columns</p>\n",
              "</div>"
            ],
            "text/plain": [
              "                                                Title  ...      fecha\n",
              "0                  The Witcher: La pesadilla del lobo  ... 2021-08-25\n",
              "1                   Breaking Bad: Temporada 2: Rotura  ... 2021-09-08\n",
              "2                    Breaking Bad: Temporada 2: Abajo  ... 2021-09-08\n",
              "3   Fullmetal Alchemist: Brotherhood: Parte 1: El ...  ... 2021-08-08\n",
              "4                         Mad Max: Furia en el camino  ... 2021-05-08\n",
              "..                                                ...  ...        ...\n",
              "89                   DEATH NOTE: Death Note: Decision  ... 2020-05-12\n",
              "90                      DEATH NOTE: Death Note: Wager  ... 2020-05-12\n",
              "91                     DEATH NOTE: Death Note: Friend  ... 2020-05-12\n",
              "92                 DEATH NOTE: Death Note: Confession  ... 2020-05-12\n",
              "93                                    Nada es privado  ... 2020-11-14\n",
              "\n",
              "[94 rows x 7 columns]"
            ]
          },
          "metadata": {},
          "execution_count": 20
        }
      ]
    },
    {
      "cell_type": "code",
      "metadata": {
        "id": "bdST1qJBy7YQ",
        "colab": {
          "base_uri": "https://localhost:8080/",
          "height": 455
        },
        "outputId": "f990a4bf-ba91-4e80-d48d-634c48fd4ba1"
      },
      "source": [
        "df.set_index('fecha', inplace = True)\n",
        "df"
      ],
      "execution_count": 21,
      "outputs": [
        {
          "output_type": "execute_result",
          "data": {
            "text/html": [
              "<div>\n",
              "<style scoped>\n",
              "    .dataframe tbody tr th:only-of-type {\n",
              "        vertical-align: middle;\n",
              "    }\n",
              "\n",
              "    .dataframe tbody tr th {\n",
              "        vertical-align: top;\n",
              "    }\n",
              "\n",
              "    .dataframe thead th {\n",
              "        text-align: right;\n",
              "    }\n",
              "</style>\n",
              "<table border=\"1\" class=\"dataframe\">\n",
              "  <thead>\n",
              "    <tr style=\"text-align: right;\">\n",
              "      <th></th>\n",
              "      <th>Title</th>\n",
              "      <th>tipo</th>\n",
              "      <th>nivel1</th>\n",
              "      <th>nivel2</th>\n",
              "      <th>nivel3</th>\n",
              "      <th>nivel4</th>\n",
              "    </tr>\n",
              "    <tr>\n",
              "      <th>fecha</th>\n",
              "      <th></th>\n",
              "      <th></th>\n",
              "      <th></th>\n",
              "      <th></th>\n",
              "      <th></th>\n",
              "      <th></th>\n",
              "    </tr>\n",
              "  </thead>\n",
              "  <tbody>\n",
              "    <tr>\n",
              "      <th>2021-08-25</th>\n",
              "      <td>The Witcher: La pesadilla del lobo</td>\n",
              "      <td>pelicula</td>\n",
              "      <td>The Witcher</td>\n",
              "      <td>La pesadilla del lobo</td>\n",
              "      <td>None</td>\n",
              "      <td>None</td>\n",
              "    </tr>\n",
              "    <tr>\n",
              "      <th>2021-09-08</th>\n",
              "      <td>Breaking Bad: Temporada 2: Rotura</td>\n",
              "      <td>serie</td>\n",
              "      <td>Breaking Bad</td>\n",
              "      <td>Temporada 2</td>\n",
              "      <td>Rotura</td>\n",
              "      <td>None</td>\n",
              "    </tr>\n",
              "    <tr>\n",
              "      <th>2021-09-08</th>\n",
              "      <td>Breaking Bad: Temporada 2: Abajo</td>\n",
              "      <td>serie</td>\n",
              "      <td>Breaking Bad</td>\n",
              "      <td>Temporada 2</td>\n",
              "      <td>Abajo</td>\n",
              "      <td>None</td>\n",
              "    </tr>\n",
              "    <tr>\n",
              "      <th>2021-08-08</th>\n",
              "      <td>Fullmetal Alchemist: Brotherhood: Parte 1: El ...</td>\n",
              "      <td>serie</td>\n",
              "      <td>Fullmetal Alchemist</td>\n",
              "      <td>Brotherhood</td>\n",
              "      <td>Parte 1</td>\n",
              "      <td>El alquimista de acero</td>\n",
              "    </tr>\n",
              "    <tr>\n",
              "      <th>2021-05-08</th>\n",
              "      <td>Mad Max: Furia en el camino</td>\n",
              "      <td>pelicula</td>\n",
              "      <td>Mad Max</td>\n",
              "      <td>Furia en el camino</td>\n",
              "      <td>None</td>\n",
              "      <td>None</td>\n",
              "    </tr>\n",
              "    <tr>\n",
              "      <th>...</th>\n",
              "      <td>...</td>\n",
              "      <td>...</td>\n",
              "      <td>...</td>\n",
              "      <td>...</td>\n",
              "      <td>...</td>\n",
              "      <td>...</td>\n",
              "    </tr>\n",
              "    <tr>\n",
              "      <th>2020-05-12</th>\n",
              "      <td>DEATH NOTE: Death Note: Decision</td>\n",
              "      <td>serie</td>\n",
              "      <td>DEATH NOTE</td>\n",
              "      <td>Death Note</td>\n",
              "      <td>Decision</td>\n",
              "      <td>None</td>\n",
              "    </tr>\n",
              "    <tr>\n",
              "      <th>2020-05-12</th>\n",
              "      <td>DEATH NOTE: Death Note: Wager</td>\n",
              "      <td>serie</td>\n",
              "      <td>DEATH NOTE</td>\n",
              "      <td>Death Note</td>\n",
              "      <td>Wager</td>\n",
              "      <td>None</td>\n",
              "    </tr>\n",
              "    <tr>\n",
              "      <th>2020-05-12</th>\n",
              "      <td>DEATH NOTE: Death Note: Friend</td>\n",
              "      <td>serie</td>\n",
              "      <td>DEATH NOTE</td>\n",
              "      <td>Death Note</td>\n",
              "      <td>Friend</td>\n",
              "      <td>None</td>\n",
              "    </tr>\n",
              "    <tr>\n",
              "      <th>2020-05-12</th>\n",
              "      <td>DEATH NOTE: Death Note: Confession</td>\n",
              "      <td>serie</td>\n",
              "      <td>DEATH NOTE</td>\n",
              "      <td>Death Note</td>\n",
              "      <td>Confession</td>\n",
              "      <td>None</td>\n",
              "    </tr>\n",
              "    <tr>\n",
              "      <th>2020-11-14</th>\n",
              "      <td>Nada es privado</td>\n",
              "      <td>pelicula</td>\n",
              "      <td>Nada es privado</td>\n",
              "      <td>None</td>\n",
              "      <td>None</td>\n",
              "      <td>None</td>\n",
              "    </tr>\n",
              "  </tbody>\n",
              "</table>\n",
              "<p>94 rows × 6 columns</p>\n",
              "</div>"
            ],
            "text/plain": [
              "                                                        Title  ...                   nivel4\n",
              "fecha                                                          ...                         \n",
              "2021-08-25                 The Witcher: La pesadilla del lobo  ...                     None\n",
              "2021-09-08                  Breaking Bad: Temporada 2: Rotura  ...                     None\n",
              "2021-09-08                   Breaking Bad: Temporada 2: Abajo  ...                     None\n",
              "2021-08-08  Fullmetal Alchemist: Brotherhood: Parte 1: El ...  ...   El alquimista de acero\n",
              "2021-05-08                        Mad Max: Furia en el camino  ...                     None\n",
              "...                                                       ...  ...                      ...\n",
              "2020-05-12                   DEATH NOTE: Death Note: Decision  ...                     None\n",
              "2020-05-12                      DEATH NOTE: Death Note: Wager  ...                     None\n",
              "2020-05-12                     DEATH NOTE: Death Note: Friend  ...                     None\n",
              "2020-05-12                 DEATH NOTE: Death Note: Confession  ...                     None\n",
              "2020-11-14                                    Nada es privado  ...                     None\n",
              "\n",
              "[94 rows x 6 columns]"
            ]
          },
          "metadata": {},
          "execution_count": 21
        }
      ]
    },
    {
      "cell_type": "markdown",
      "metadata": {
        "id": "JlIIQbCl-kVg"
      },
      "source": [
        "Creamos una función para extraer los componentes."
      ]
    },
    {
      "cell_type": "code",
      "metadata": {
        "id": "ZDT-1wTKzk0X"
      },
      "source": [
        "def atributos_fechas(data):\n",
        "  data['año'] = data.index.year\n",
        "  data['mes'] = data.index.month_name()\n",
        "  data['dia_mes'] = data.index.day\n",
        "  data['dia_semana'] = data.index.day_name()\n",
        "  return(data)"
      ],
      "execution_count": 22,
      "outputs": []
    },
    {
      "cell_type": "code",
      "metadata": {
        "id": "vb4zUu9P0dmn",
        "colab": {
          "base_uri": "https://localhost:8080/",
          "height": 455
        },
        "outputId": "b457b292-7d7d-42b3-935e-378d19b6673e"
      },
      "source": [
        "atributos_fechas(df)"
      ],
      "execution_count": 23,
      "outputs": [
        {
          "output_type": "execute_result",
          "data": {
            "text/html": [
              "<div>\n",
              "<style scoped>\n",
              "    .dataframe tbody tr th:only-of-type {\n",
              "        vertical-align: middle;\n",
              "    }\n",
              "\n",
              "    .dataframe tbody tr th {\n",
              "        vertical-align: top;\n",
              "    }\n",
              "\n",
              "    .dataframe thead th {\n",
              "        text-align: right;\n",
              "    }\n",
              "</style>\n",
              "<table border=\"1\" class=\"dataframe\">\n",
              "  <thead>\n",
              "    <tr style=\"text-align: right;\">\n",
              "      <th></th>\n",
              "      <th>Title</th>\n",
              "      <th>tipo</th>\n",
              "      <th>nivel1</th>\n",
              "      <th>nivel2</th>\n",
              "      <th>nivel3</th>\n",
              "      <th>nivel4</th>\n",
              "      <th>año</th>\n",
              "      <th>mes</th>\n",
              "      <th>dia_mes</th>\n",
              "      <th>dia_semana</th>\n",
              "    </tr>\n",
              "    <tr>\n",
              "      <th>fecha</th>\n",
              "      <th></th>\n",
              "      <th></th>\n",
              "      <th></th>\n",
              "      <th></th>\n",
              "      <th></th>\n",
              "      <th></th>\n",
              "      <th></th>\n",
              "      <th></th>\n",
              "      <th></th>\n",
              "      <th></th>\n",
              "    </tr>\n",
              "  </thead>\n",
              "  <tbody>\n",
              "    <tr>\n",
              "      <th>2021-08-25</th>\n",
              "      <td>The Witcher: La pesadilla del lobo</td>\n",
              "      <td>pelicula</td>\n",
              "      <td>The Witcher</td>\n",
              "      <td>La pesadilla del lobo</td>\n",
              "      <td>None</td>\n",
              "      <td>None</td>\n",
              "      <td>2021</td>\n",
              "      <td>August</td>\n",
              "      <td>25</td>\n",
              "      <td>Wednesday</td>\n",
              "    </tr>\n",
              "    <tr>\n",
              "      <th>2021-09-08</th>\n",
              "      <td>Breaking Bad: Temporada 2: Rotura</td>\n",
              "      <td>serie</td>\n",
              "      <td>Breaking Bad</td>\n",
              "      <td>Temporada 2</td>\n",
              "      <td>Rotura</td>\n",
              "      <td>None</td>\n",
              "      <td>2021</td>\n",
              "      <td>September</td>\n",
              "      <td>8</td>\n",
              "      <td>Wednesday</td>\n",
              "    </tr>\n",
              "    <tr>\n",
              "      <th>2021-09-08</th>\n",
              "      <td>Breaking Bad: Temporada 2: Abajo</td>\n",
              "      <td>serie</td>\n",
              "      <td>Breaking Bad</td>\n",
              "      <td>Temporada 2</td>\n",
              "      <td>Abajo</td>\n",
              "      <td>None</td>\n",
              "      <td>2021</td>\n",
              "      <td>September</td>\n",
              "      <td>8</td>\n",
              "      <td>Wednesday</td>\n",
              "    </tr>\n",
              "    <tr>\n",
              "      <th>2021-08-08</th>\n",
              "      <td>Fullmetal Alchemist: Brotherhood: Parte 1: El ...</td>\n",
              "      <td>serie</td>\n",
              "      <td>Fullmetal Alchemist</td>\n",
              "      <td>Brotherhood</td>\n",
              "      <td>Parte 1</td>\n",
              "      <td>El alquimista de acero</td>\n",
              "      <td>2021</td>\n",
              "      <td>August</td>\n",
              "      <td>8</td>\n",
              "      <td>Sunday</td>\n",
              "    </tr>\n",
              "    <tr>\n",
              "      <th>2021-05-08</th>\n",
              "      <td>Mad Max: Furia en el camino</td>\n",
              "      <td>pelicula</td>\n",
              "      <td>Mad Max</td>\n",
              "      <td>Furia en el camino</td>\n",
              "      <td>None</td>\n",
              "      <td>None</td>\n",
              "      <td>2021</td>\n",
              "      <td>May</td>\n",
              "      <td>8</td>\n",
              "      <td>Saturday</td>\n",
              "    </tr>\n",
              "    <tr>\n",
              "      <th>...</th>\n",
              "      <td>...</td>\n",
              "      <td>...</td>\n",
              "      <td>...</td>\n",
              "      <td>...</td>\n",
              "      <td>...</td>\n",
              "      <td>...</td>\n",
              "      <td>...</td>\n",
              "      <td>...</td>\n",
              "      <td>...</td>\n",
              "      <td>...</td>\n",
              "    </tr>\n",
              "    <tr>\n",
              "      <th>2020-05-12</th>\n",
              "      <td>DEATH NOTE: Death Note: Decision</td>\n",
              "      <td>serie</td>\n",
              "      <td>DEATH NOTE</td>\n",
              "      <td>Death Note</td>\n",
              "      <td>Decision</td>\n",
              "      <td>None</td>\n",
              "      <td>2020</td>\n",
              "      <td>May</td>\n",
              "      <td>12</td>\n",
              "      <td>Tuesday</td>\n",
              "    </tr>\n",
              "    <tr>\n",
              "      <th>2020-05-12</th>\n",
              "      <td>DEATH NOTE: Death Note: Wager</td>\n",
              "      <td>serie</td>\n",
              "      <td>DEATH NOTE</td>\n",
              "      <td>Death Note</td>\n",
              "      <td>Wager</td>\n",
              "      <td>None</td>\n",
              "      <td>2020</td>\n",
              "      <td>May</td>\n",
              "      <td>12</td>\n",
              "      <td>Tuesday</td>\n",
              "    </tr>\n",
              "    <tr>\n",
              "      <th>2020-05-12</th>\n",
              "      <td>DEATH NOTE: Death Note: Friend</td>\n",
              "      <td>serie</td>\n",
              "      <td>DEATH NOTE</td>\n",
              "      <td>Death Note</td>\n",
              "      <td>Friend</td>\n",
              "      <td>None</td>\n",
              "      <td>2020</td>\n",
              "      <td>May</td>\n",
              "      <td>12</td>\n",
              "      <td>Tuesday</td>\n",
              "    </tr>\n",
              "    <tr>\n",
              "      <th>2020-05-12</th>\n",
              "      <td>DEATH NOTE: Death Note: Confession</td>\n",
              "      <td>serie</td>\n",
              "      <td>DEATH NOTE</td>\n",
              "      <td>Death Note</td>\n",
              "      <td>Confession</td>\n",
              "      <td>None</td>\n",
              "      <td>2020</td>\n",
              "      <td>May</td>\n",
              "      <td>12</td>\n",
              "      <td>Tuesday</td>\n",
              "    </tr>\n",
              "    <tr>\n",
              "      <th>2020-11-14</th>\n",
              "      <td>Nada es privado</td>\n",
              "      <td>pelicula</td>\n",
              "      <td>Nada es privado</td>\n",
              "      <td>None</td>\n",
              "      <td>None</td>\n",
              "      <td>None</td>\n",
              "      <td>2020</td>\n",
              "      <td>November</td>\n",
              "      <td>14</td>\n",
              "      <td>Saturday</td>\n",
              "    </tr>\n",
              "  </tbody>\n",
              "</table>\n",
              "<p>94 rows × 10 columns</p>\n",
              "</div>"
            ],
            "text/plain": [
              "                                                        Title  ... dia_semana\n",
              "fecha                                                          ...           \n",
              "2021-08-25                 The Witcher: La pesadilla del lobo  ...  Wednesday\n",
              "2021-09-08                  Breaking Bad: Temporada 2: Rotura  ...  Wednesday\n",
              "2021-09-08                   Breaking Bad: Temporada 2: Abajo  ...  Wednesday\n",
              "2021-08-08  Fullmetal Alchemist: Brotherhood: Parte 1: El ...  ...     Sunday\n",
              "2021-05-08                        Mad Max: Furia en el camino  ...   Saturday\n",
              "...                                                       ...  ...        ...\n",
              "2020-05-12                   DEATH NOTE: Death Note: Decision  ...    Tuesday\n",
              "2020-05-12                      DEATH NOTE: Death Note: Wager  ...    Tuesday\n",
              "2020-05-12                     DEATH NOTE: Death Note: Friend  ...    Tuesday\n",
              "2020-05-12                 DEATH NOTE: Death Note: Confession  ...    Tuesday\n",
              "2020-11-14                                    Nada es privado  ...   Saturday\n",
              "\n",
              "[94 rows x 10 columns]"
            ]
          },
          "metadata": {},
          "execution_count": 23
        }
      ]
    },
    {
      "cell_type": "markdown",
      "metadata": {
        "id": "zb0g0-lk54m4"
      },
      "source": [
        "## 4. ANALISIS"
      ]
    },
    {
      "cell_type": "markdown",
      "metadata": {
        "id": "bBs1wXCx2c_b"
      },
      "source": [
        "¿Desde hace cuánto tiempo tengo contratado Netflix?"
      ]
    },
    {
      "cell_type": "code",
      "metadata": {
        "id": "kwzFRobE0hOA",
        "colab": {
          "base_uri": "https://localhost:8080/"
        },
        "outputId": "e9d50faa-93bf-4470-8140-12c10a218dcb"
      },
      "source": [
        "from datetime import date\n",
        "\n",
        "hoy = pd.Timestamp(date.today())\n",
        "\n",
        "primer_dia = df.index.min()\n",
        "\n",
        "tiempo = hoy - primer_dia\n",
        "\n",
        "print(f'Llevo usando Netflix {tiempo.days} dias')"
      ],
      "execution_count": 24,
      "outputs": [
        {
          "output_type": "stream",
          "name": "stdout",
          "text": [
            "Llevo usando Netflix 493 dias\n"
          ]
        }
      ]
    },
    {
      "cell_type": "markdown",
      "metadata": {
        "id": "YrIzCw8J2mWv"
      },
      "source": [
        "¿Cuanto he gastado en Netflix hasta ahora?"
      ]
    },
    {
      "cell_type": "code",
      "metadata": {
        "id": "4T35624W32vp",
        "colab": {
          "base_uri": "https://localhost:8080/"
        },
        "outputId": "6472ff57-a1a7-4824-c02c-f4dade9b77c3"
      },
      "source": [
        "coste_mensual = 12\n",
        "\n",
        "gasto = tiempo.days / 30 * coste_mensual\n",
        "\n",
        "print(f'Hasta ahora he gastado (en realidad mi hermano xd) {gasto} dólares en Netflix')"
      ],
      "execution_count": 25,
      "outputs": [
        {
          "output_type": "stream",
          "name": "stdout",
          "text": [
            "Hasta ahora he gastado (en realidad mi hermano xd) 197.2 dólares en Netflix\n"
          ]
        }
      ]
    },
    {
      "cell_type": "markdown",
      "metadata": {
        "id": "hFcZfYmc5haQ"
      },
      "source": [
        "¿Cuánto tiempo le dedico a Netflix al año?"
      ]
    },
    {
      "cell_type": "code",
      "metadata": {
        "colab": {
          "base_uri": "https://localhost:8080/"
        },
        "id": "fsEN2fPA5mLm",
        "outputId": "fe401510-5d21-479c-f1ef-fcb80f3839d5"
      },
      "source": [
        "media_min_serie = 45\n",
        "media_min_peli = 100\n",
        "\n",
        "consumo = df.loc[df.año < 2021].groupby('tipo').Title.count()\n",
        "\n",
        "minutos_pelis_año = consumo['pelicula'] * media_min_peli\n",
        "\n",
        "minutos_series_año = consumo['serie'] * media_min_serie\n",
        "\n",
        "dias_pelis_año = minutos_pelis_año / 60\n",
        "\n",
        "dias_series_año = minutos_series_año / 60\n",
        "\n",
        "print(f'Al año le dedico aproximadamente {round(dias_series_año)} horas a ver series y {round(dias_pelis_año)} horas a ver películas')"
      ],
      "execution_count": 29,
      "outputs": [
        {
          "output_type": "stream",
          "name": "stdout",
          "text": [
            "Al año le dedico aproximadamente 11 horas a ver series y 10 horas a ver películas\n"
          ]
        }
      ]
    },
    {
      "cell_type": "markdown",
      "metadata": {
        "id": "sZvUqQsMBkIt"
      },
      "source": [
        "¿Cuáles son las 10 series de las que más capítulos he visto?"
      ]
    },
    {
      "cell_type": "code",
      "metadata": {
        "id": "KTm57B_03z5n",
        "colab": {
          "base_uri": "https://localhost:8080/",
          "height": 265
        },
        "outputId": "3d8ad4b7-5e76-4b64-de8d-b3574851bc25"
      },
      "source": [
        "df.loc[df.tipo == 'serie'].nivel1.value_counts(ascending = True).tail(10).plot.barh(cmap = 'Paired');"
      ],
      "execution_count": 33,
      "outputs": [
        {
          "output_type": "display_data",
          "data": {
            "image/png": "[encoded data removed]",
            "text/plain": [
              "<Figure size 432x288 with 1 Axes>"
            ]
          },
          "metadata": {
            "needs_background": "light"
          }
        }
      ]
    },
    {
      "cell_type": "markdown",
      "metadata": {
        "id": "d4p25LUZBpNL"
      },
      "source": [
        "Echo en falta mi serie favorita! Hijos de la Anarquía. Vamos a hacer una consulta de los títulos que incluyan ese nombre para ver por qué."
      ]
    },
    {
      "cell_type": "markdown",
      "metadata": {
        "id": "AcyGolO1zWqm"
      },
      "source": [
        "¿Qué día de la semana suelo ver más series?"
      ]
    },
    {
      "cell_type": "code",
      "metadata": {
        "id": "rqwe7EoJA-3p",
        "colab": {
          "base_uri": "https://localhost:8080/",
          "height": 313
        },
        "outputId": "3e75f0c7-78a5-4dca-8f38-676641eca12f"
      },
      "source": [
        "df.loc[df.tipo == 'serie', 'dia_semana'].value_counts().plot(kind = 'bar');"
      ],
      "execution_count": 34,
      "outputs": [
        {
          "output_type": "display_data",
          "data": {
            "image/png": "[encoded data removed]",
            "text/plain": [
              "<Figure size 432x288 with 1 Axes>"
            ]
          },
          "metadata": {
            "needs_background": "light"
          }
        }
      ]
    },
    {
      "cell_type": "markdown",
      "metadata": {
        "id": "01DM0NcP2k6w"
      },
      "source": [
        "¿Días de la semana en los que veo Netflix series y películas?"
      ]
    },
    {
      "cell_type": "code",
      "metadata": {
        "colab": {
          "base_uri": "https://localhost:8080/",
          "height": 280
        },
        "id": "X87KaC2s2FbX",
        "outputId": "1c81a840-5403-4e67-82c4-d1ec0f1591ea"
      },
      "source": [
        "import seaborn as sns\n",
        "\n",
        "sns.countplot(data = df, x = 'dia_semana', hue = 'tipo', palette= 'Accent');"
      ],
      "execution_count": 37,
      "outputs": [
        {
          "output_type": "display_data",
          "data": {
            "image/png": "[encoded data removed]",
            "text/plain": [
              "<Figure size 432x288 with 1 Axes>"
            ]
          },
          "metadata": {
            "needs_background": "light"
          }
        }
      ]
    },
    {
      "cell_type": "markdown",
      "metadata": {
        "id": "AxRgtJBX5Bdh"
      },
      "source": [
        "¿Qué meses consumo (Netflix, no H) más?"
      ]
    },
    {
      "cell_type": "code",
      "metadata": {
        "colab": {
          "base_uri": "https://localhost:8080/",
          "height": 307
        },
        "id": "jDV_fwC62bg3",
        "outputId": "a74da290-479e-4bc7-dc68-b3892709324f"
      },
      "source": [
        "df.loc[df.año < 2021].mes.value_counts().plot.bar();"
      ],
      "execution_count": 39,
      "outputs": [
        {
          "output_type": "display_data",
          "data": {
            "image/png": "[encoded data removed]",
            "text/plain": [
              "<Figure size 432x288 with 1 Axes>"
            ]
          },
          "metadata": {
            "needs_background": "light"
          }
        }
      ]
    },
    {
      "cell_type": "markdown",
      "metadata": {
        "id": "x7Td_xJW3P3o"
      },
      "source": [
        "¿Afectó el confinamiento a la cantidad de uso que hice de Netflix?"
      ]
    },
    {
      "cell_type": "code",
      "metadata": {
        "colab": {
          "base_uri": "https://localhost:8080/",
          "height": 281
        },
        "id": "DSU77MWB2_5u",
        "outputId": "81cb0514-ab49-48fc-b980-2330de8ed797"
      },
      "source": [
        "df.año.value_counts().plot.bar();"
      ],
      "execution_count": 40,
      "outputs": [
        {
          "output_type": "display_data",
          "data": {
            "image/png": "[encoded data removed]",
            "text/plain": [
              "<Figure size 432x288 with 1 Axes>"
            ]
          },
          "metadata": {
            "needs_background": "light"
          }
        }
      ]
    }
  ]
}